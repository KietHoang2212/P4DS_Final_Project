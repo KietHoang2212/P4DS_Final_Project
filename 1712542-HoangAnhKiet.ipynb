{
 "cells": [
  {
   "cell_type": "markdown",
   "metadata": {},
   "source": [
    "# Đồ án cuối kỳ\n",
    "\n",
    "Họ tên: Hoàng Anh Kiệt\n",
    "\n",
    "MSSV: 1712542"
   ]
  },
  {
   "cell_type": "markdown",
   "metadata": {},
   "source": [
    "___"
   ]
  },
  {
   "cell_type": "markdown",
   "metadata": {},
   "source": [
    "## Import"
   ]
  },
  {
   "cell_type": "code",
   "execution_count": 1,
   "metadata": {},
   "outputs": [],
   "source": [
    "%matplotlib inline\n",
    "import matplotlib.pyplot as plt\n",
    "import pandas as pd\n",
    "import numpy as np"
   ]
  },
  {
   "cell_type": "markdown",
   "metadata": {},
   "source": [
    "___"
   ]
  },
  {
   "cell_type": "markdown",
   "metadata": {},
   "source": [
    "## Lấy dữ liệu"
   ]
  },
  {
   "cell_type": "markdown",
   "metadata": {},
   "source": [
    "Dữ liệu được dùng trong đồ án này là `'hotel_bookings.csv'`. Đây là dữ liệu về thông tin đặt phòng khách sạn của City Hotel (1 khách sạn nằm ở thành phố Lisbon, Bồ Đào Nha) và Resort Hotel (1 khách sạn ở khu nghỉ dưỡng Algarve, Bồ Đào Nha) trong giai đoạn từ ngày 01/07/2015 đến ngày 31/08/2017; dữ liệu ghi nhận tất cả lượt đặt phòng bao gồm cả thực sự nhận phòng và hủy đặt phòng."
   ]
  },
  {
   "cell_type": "markdown",
   "metadata": {},
   "source": [
    "Dữ liệu này được lấy từ tập dữ liệu [Hotel booking demand](https://www.kaggle.com/jessemostipak/hotel-booking-demand) trên Kaggle.\n",
    "* License: [Attribution 4.0 International (CC BY 4.0)](https://creativecommons.org/licenses/by/4.0/)\n",
    "* Dữ liệu gốc được lấy từ bài báo [Hotel Booking Demand Datasets](https://www.sciencedirect.com/science/article/pii/S2352340918315191), được tải và 'làm sạch' bởi Thomas Mock và Antoine Bichat."
   ]
  },
  {
   "cell_type": "markdown",
   "metadata": {},
   "source": [
    "Dữ liệu gốc được thu thập bằng cách trích xuất từ cơ sở dữ liệu của khách sạn (hotels’ Property Management System (PMS) SQL databases)"
   ]
  },
  {
   "cell_type": "markdown",
   "metadata": {},
   "source": [
    "___"
   ]
  },
  {
   "cell_type": "markdown",
   "metadata": {},
   "source": [
    "## Khám phá dữ liệu"
   ]
  },
  {
   "cell_type": "markdown",
   "metadata": {},
   "source": [
    "### Đọc dữ liệu vào dataframe"
   ]
  },
  {
   "cell_type": "code",
   "execution_count": 2,
   "metadata": {},
   "outputs": [
    {
     "data": {
      "text/html": [
       "<div>\n",
       "<style scoped>\n",
       "    .dataframe tbody tr th:only-of-type {\n",
       "        vertical-align: middle;\n",
       "    }\n",
       "\n",
       "    .dataframe tbody tr th {\n",
       "        vertical-align: top;\n",
       "    }\n",
       "\n",
       "    .dataframe thead th {\n",
       "        text-align: right;\n",
       "    }\n",
       "</style>\n",
       "<table border=\"1\" class=\"dataframe\">\n",
       "  <thead>\n",
       "    <tr style=\"text-align: right;\">\n",
       "      <th></th>\n",
       "      <th>hotel</th>\n",
       "      <th>is_canceled</th>\n",
       "      <th>lead_time</th>\n",
       "      <th>arrival_date_year</th>\n",
       "      <th>arrival_date_month</th>\n",
       "      <th>arrival_date_week_number</th>\n",
       "      <th>arrival_date_day_of_month</th>\n",
       "      <th>stays_in_weekend_nights</th>\n",
       "      <th>stays_in_week_nights</th>\n",
       "      <th>adults</th>\n",
       "      <th>...</th>\n",
       "      <th>deposit_type</th>\n",
       "      <th>agent</th>\n",
       "      <th>company</th>\n",
       "      <th>days_in_waiting_list</th>\n",
       "      <th>customer_type</th>\n",
       "      <th>adr</th>\n",
       "      <th>required_car_parking_spaces</th>\n",
       "      <th>total_of_special_requests</th>\n",
       "      <th>reservation_status</th>\n",
       "      <th>reservation_status_date</th>\n",
       "    </tr>\n",
       "  </thead>\n",
       "  <tbody>\n",
       "    <tr>\n",
       "      <td>0</td>\n",
       "      <td>Resort Hotel</td>\n",
       "      <td>0</td>\n",
       "      <td>342</td>\n",
       "      <td>2015</td>\n",
       "      <td>July</td>\n",
       "      <td>27</td>\n",
       "      <td>1</td>\n",
       "      <td>0</td>\n",
       "      <td>0</td>\n",
       "      <td>2</td>\n",
       "      <td>...</td>\n",
       "      <td>No Deposit</td>\n",
       "      <td>NaN</td>\n",
       "      <td>NaN</td>\n",
       "      <td>0</td>\n",
       "      <td>Transient</td>\n",
       "      <td>0.0</td>\n",
       "      <td>0</td>\n",
       "      <td>0</td>\n",
       "      <td>Check-Out</td>\n",
       "      <td>2015-07-01</td>\n",
       "    </tr>\n",
       "    <tr>\n",
       "      <td>1</td>\n",
       "      <td>Resort Hotel</td>\n",
       "      <td>0</td>\n",
       "      <td>737</td>\n",
       "      <td>2015</td>\n",
       "      <td>July</td>\n",
       "      <td>27</td>\n",
       "      <td>1</td>\n",
       "      <td>0</td>\n",
       "      <td>0</td>\n",
       "      <td>2</td>\n",
       "      <td>...</td>\n",
       "      <td>No Deposit</td>\n",
       "      <td>NaN</td>\n",
       "      <td>NaN</td>\n",
       "      <td>0</td>\n",
       "      <td>Transient</td>\n",
       "      <td>0.0</td>\n",
       "      <td>0</td>\n",
       "      <td>0</td>\n",
       "      <td>Check-Out</td>\n",
       "      <td>2015-07-01</td>\n",
       "    </tr>\n",
       "    <tr>\n",
       "      <td>2</td>\n",
       "      <td>Resort Hotel</td>\n",
       "      <td>0</td>\n",
       "      <td>7</td>\n",
       "      <td>2015</td>\n",
       "      <td>July</td>\n",
       "      <td>27</td>\n",
       "      <td>1</td>\n",
       "      <td>0</td>\n",
       "      <td>1</td>\n",
       "      <td>1</td>\n",
       "      <td>...</td>\n",
       "      <td>No Deposit</td>\n",
       "      <td>NaN</td>\n",
       "      <td>NaN</td>\n",
       "      <td>0</td>\n",
       "      <td>Transient</td>\n",
       "      <td>75.0</td>\n",
       "      <td>0</td>\n",
       "      <td>0</td>\n",
       "      <td>Check-Out</td>\n",
       "      <td>2015-07-02</td>\n",
       "    </tr>\n",
       "    <tr>\n",
       "      <td>3</td>\n",
       "      <td>Resort Hotel</td>\n",
       "      <td>0</td>\n",
       "      <td>13</td>\n",
       "      <td>2015</td>\n",
       "      <td>July</td>\n",
       "      <td>27</td>\n",
       "      <td>1</td>\n",
       "      <td>0</td>\n",
       "      <td>1</td>\n",
       "      <td>1</td>\n",
       "      <td>...</td>\n",
       "      <td>No Deposit</td>\n",
       "      <td>304.0</td>\n",
       "      <td>NaN</td>\n",
       "      <td>0</td>\n",
       "      <td>Transient</td>\n",
       "      <td>75.0</td>\n",
       "      <td>0</td>\n",
       "      <td>0</td>\n",
       "      <td>Check-Out</td>\n",
       "      <td>2015-07-02</td>\n",
       "    </tr>\n",
       "    <tr>\n",
       "      <td>4</td>\n",
       "      <td>Resort Hotel</td>\n",
       "      <td>0</td>\n",
       "      <td>14</td>\n",
       "      <td>2015</td>\n",
       "      <td>July</td>\n",
       "      <td>27</td>\n",
       "      <td>1</td>\n",
       "      <td>0</td>\n",
       "      <td>2</td>\n",
       "      <td>2</td>\n",
       "      <td>...</td>\n",
       "      <td>No Deposit</td>\n",
       "      <td>240.0</td>\n",
       "      <td>NaN</td>\n",
       "      <td>0</td>\n",
       "      <td>Transient</td>\n",
       "      <td>98.0</td>\n",
       "      <td>0</td>\n",
       "      <td>1</td>\n",
       "      <td>Check-Out</td>\n",
       "      <td>2015-07-03</td>\n",
       "    </tr>\n",
       "  </tbody>\n",
       "</table>\n",
       "<p>5 rows × 32 columns</p>\n",
       "</div>"
      ],
      "text/plain": [
       "          hotel  is_canceled  lead_time  arrival_date_year arrival_date_month  \\\n",
       "0  Resort Hotel            0        342               2015               July   \n",
       "1  Resort Hotel            0        737               2015               July   \n",
       "2  Resort Hotel            0          7               2015               July   \n",
       "3  Resort Hotel            0         13               2015               July   \n",
       "4  Resort Hotel            0         14               2015               July   \n",
       "\n",
       "   arrival_date_week_number  arrival_date_day_of_month  \\\n",
       "0                        27                          1   \n",
       "1                        27                          1   \n",
       "2                        27                          1   \n",
       "3                        27                          1   \n",
       "4                        27                          1   \n",
       "\n",
       "   stays_in_weekend_nights  stays_in_week_nights  adults  ...  deposit_type  \\\n",
       "0                        0                     0       2  ...    No Deposit   \n",
       "1                        0                     0       2  ...    No Deposit   \n",
       "2                        0                     1       1  ...    No Deposit   \n",
       "3                        0                     1       1  ...    No Deposit   \n",
       "4                        0                     2       2  ...    No Deposit   \n",
       "\n",
       "   agent company days_in_waiting_list customer_type   adr  \\\n",
       "0    NaN     NaN                    0     Transient   0.0   \n",
       "1    NaN     NaN                    0     Transient   0.0   \n",
       "2    NaN     NaN                    0     Transient  75.0   \n",
       "3  304.0     NaN                    0     Transient  75.0   \n",
       "4  240.0     NaN                    0     Transient  98.0   \n",
       "\n",
       "   required_car_parking_spaces  total_of_special_requests  reservation_status  \\\n",
       "0                            0                          0           Check-Out   \n",
       "1                            0                          0           Check-Out   \n",
       "2                            0                          0           Check-Out   \n",
       "3                            0                          0           Check-Out   \n",
       "4                            0                          1           Check-Out   \n",
       "\n",
       "  reservation_status_date  \n",
       "0              2015-07-01  \n",
       "1              2015-07-01  \n",
       "2              2015-07-02  \n",
       "3              2015-07-02  \n",
       "4              2015-07-03  \n",
       "\n",
       "[5 rows x 32 columns]"
      ]
     },
     "execution_count": 2,
     "metadata": {},
     "output_type": "execute_result"
    }
   ],
   "source": [
    "booking_df = pd.read_csv('hotel_bookings.csv')\n",
    "booking_df.head()"
   ]
  },
  {
   "cell_type": "markdown",
   "metadata": {},
   "source": [
    "### Dữ liệu có bao nhiêu dòng và cột?"
   ]
  },
  {
   "cell_type": "code",
   "execution_count": 3,
   "metadata": {},
   "outputs": [
    {
     "name": "stdout",
     "output_type": "stream",
     "text": [
      "num_rows: 119390\n",
      "num_cols 32\n"
     ]
    }
   ],
   "source": [
    "num_rows, num_cols = booking_df.shape\n",
    "print('num_rows:', num_rows)\n",
    "print('num_cols', num_cols)"
   ]
  },
  {
   "cell_type": "markdown",
   "metadata": {},
   "source": [
    "Dữ liệu có 119390 dòng và 32 cột."
   ]
  },
  {
   "cell_type": "markdown",
   "metadata": {},
   "source": [
    "### Mỗi dòng có ý nghĩa gì?"
   ]
  },
  {
   "cell_type": "markdown",
   "metadata": {},
   "source": [
    "Mỗi dòng ứng với thông tin của một lượt đặt phòng khách sạn."
   ]
  },
  {
   "cell_type": "markdown",
   "metadata": {},
   "source": [
    "### Mỗi cột có ý nghĩa gì?"
   ]
  },
  {
   "attachments": {},
   "cell_type": "markdown",
   "metadata": {},
   "source": [
    "* **hotel**: cho biết đặt phòng ở khách sạn nào? *(Resort Hotel hay City Hotel?)*\n",
    "* **is_canceled**: cho biết lượt đặt phòng này có bị hủy hay không? *(1 nếu bị hủy, 2 nếu không hủy)*\n",
    "* **lead_time**: cho biết số ngày tình từ ngày đặt phòng (được nhập vào PMS SQL databases) đến ngày đến nhận phòng.\n",
    "* **arrival_date_year**: cho biết năm của ngày đến nhận phòng.\n",
    "* **arrival_date_month**: cho biết tháng của ngày đến nhận phòng.\n",
    "* **arrival_date_week_number**: cho biết tuần ngày đến nhận phòng.\n",
    "* **arrival_date_day_of_month**: cho biết ngày trong tháng của ngày đến nhận phòng (day).\n",
    "* **stays_in_weekend_nights**: cho biết số đêm cuối tuần (Thứ Bảy, Chủ Nhật) mà khách ở hoặc đặt phòng tại khách sạn.\n",
    "* **stays_in_week_nights**: cho biết số đêm trong tuần (từ Thứ Hai đến Thứ Sáu) mà khách ở hoặc đặt phòng tại khách sạn.\n",
    "* **adults**: cho biết số lượng người lớn của lượt đặt phòng này.\n",
    "* **children**: cho biết số lượng trẻ em của lượt đặt phòng này.\n",
    "* **babies**: cho biết số lượng trẻ sơ sinh của lượt đặt phòng này.\n",
    "* **meal**: cho biết loại bữa ăn đã đặt. *(Undefined/SC: không gói bữa ăn; BB: Bed & Breakfast; HB: Haft board (bữa sáng và 1 bữa ăn khác - thường là bữa tối); FB: Full board (bữa sáng, trưa và tối))*\n",
    "* **country**: cho biết quốc tịch của khách hàng. *(Được trình bày ở định dạng ISO 3155-3:2013)*\n",
    "* **market_segment**: cho biết phân khúc thị trường. *(TA: Đại lý du lịch(Travel Agents); TO: nhà điều hành tour(Tour Operators))*\n",
    "* **distribution_channel**: cho biết kênh phân phối đặt phòng. *(TA: Đại lý du lịch(Travel Agents); TO: nhà điều hành tour(Tour Operators))*\n",
    "* **is_repeated_guest**: cho biết khách hàng đã từng đặt phòng nhiều lần? *(1 nếu khách hàng đã từng đặt phòng ở đây, 0 nếu khách hàng chưa từng đặt phòng ở đây)*\n",
    "* **previous_cancellations**: cho biết số lượt đặt phòng mà khách hàng đã hủy trước lượt đặt hiện tại.\n",
    "* **previous_bookings_not_canceled**: cho biết số lượt đặt phòng trước đó mà khách hàng không hủy trước lượt đặt hiện tại.\n",
    "* **reserved_room_type**: mã của loại phòng đã đặt trước.\n",
    "* **assigned_room_type**: mã của loại phòng được chỉ định cho đặt phòng. *(Đôi khi vì một số lý do mà loại phòng được chỉ định khác với loại phòng mà khác hàng đã đặt trước, có thể vì lý do yêu cầu hoạt động của khách sạn hoặc do yêu cầu của khách hàng)*\n",
    "* **booking_changes**: cho biết số lượng thay đổi đối với lượt đặt phòng từ thời điểm đặt phòng được nhập trên PMS cho đến thời điểm nhận phòng hoặc hủy bỏ phòng.\n",
    "* **deposit_type**: cho biết khách hàng có đặt cọc trước để đảm bảo có phòng ở hay không. *(No Deposit: không đặt cọc; Non Refund: đặt cọc một khoản bằng tổng chi phí lưu trú; Refundable: đặt cọc một khoản nhỏ hơn tổng chi phí lưu trú)*\n",
    "* **agent**: ID của đại lý du lịch đã thực hiện đặt phòng.\n",
    "* **company**: ID của công ty/tổ chức đã thực hiện đặt phòng hoặc chịu trách nhiệm thanh toán đặt phòng.\n",
    "* **days_in_waiting_list**: cho biết số ngày mà lượt đặt phòng phải chờ trước khi được xác nhận cho khách hàng.\n",
    "* **customer_type**: cho biết loại đặt phòng. *(Contract: khi đặt phòng có giao khoán hoặc các loại hợp đồng khác liên quan đến nó; Group: khi đặt phòng được liên kết với một nhóm; Transient: khi đặt phòng không thuộc nhóm (Group) hoặc hợp đồng (Contract) và không liên quan đến đặt chỗ tạm thời khác; Transient-party: khi đặt phòng chỉ là tạm thời nhưng được liên kết với ít nhất 1 đặt chỗ tạm thời khác)*\n",
    "* **adr**: cho biết giá trung bình 1 ngày. *(Tổng chi phí lưu trú chi cho tổng số đêm lưu trú)*\n",
    "* **required_car_parking_spaces**: cho biết số lượng chỗ để xe mà khách hàng yêu cầu.\n",
    "* **total_of_special_requests**: cho biết số lượng các yêu câu đặc biệt khác của khách hàng *(như là phải có giường đôi hay phải ở tầng cao,...)*\n",
    "* **reservation_status**: cho biết trạng thái đặt phòng cuối cùng. *(Canceled: khách đã hủy đặt phòng; Check-Out: khách đã thực hiện trả phòng; No-Show: khách không nhận phòng và đã thông báo lý do cho khách sạn)*\n",
    "* **reservation_status_date**: cho biết ngày mà trạng thái cuối cùng được thiết lập. *(có thể kết hợp với 'reservation_status' để cho biết khi nào đặt phòng bị hủy hay khi nào khách trả phòng)"
   ]
  },
  {
   "cell_type": "markdown",
   "metadata": {},
   "source": [
    "____"
   ]
  },
  {
   "cell_type": "markdown",
   "metadata": {},
   "source": [
    "## Đưa ra các câu hỏi cần trả lời"
   ]
  },
  {
   "cell_type": "code",
   "execution_count": null,
   "metadata": {},
   "outputs": [],
   "source": []
  },
  {
   "cell_type": "markdown",
   "metadata": {},
   "source": [
    "____"
   ]
  },
  {
   "cell_type": "markdown",
   "metadata": {},
   "source": [
    "## Phân tích dữ liệu để trả lời cho các câu hỏi "
   ]
  },
  {
   "cell_type": "code",
   "execution_count": null,
   "metadata": {},
   "outputs": [],
   "source": []
  },
  {
   "cell_type": "markdown",
   "metadata": {},
   "source": [
    "___"
   ]
  },
  {
   "cell_type": "markdown",
   "metadata": {},
   "source": [
    "## Nhìn lại quá trình làm đồ án"
   ]
  },
  {
   "cell_type": "code",
   "execution_count": null,
   "metadata": {},
   "outputs": [],
   "source": []
  },
  {
   "cell_type": "markdown",
   "metadata": {},
   "source": [
    "___"
   ]
  },
  {
   "cell_type": "markdown",
   "metadata": {},
   "source": [
    "## Tài liệu tham khảo"
   ]
  },
  {
   "cell_type": "code",
   "execution_count": null,
   "metadata": {},
   "outputs": [],
   "source": []
  }
 ],
 "metadata": {
  "kernelspec": {
   "display_name": "Python 3",
   "language": "python",
   "name": "python3"
  },
  "language_info": {
   "codemirror_mode": {
    "name": "ipython",
    "version": 3
   },
   "file_extension": ".py",
   "mimetype": "text/x-python",
   "name": "python",
   "nbconvert_exporter": "python",
   "pygments_lexer": "ipython3",
   "version": "3.7.4"
  }
 },
 "nbformat": 4,
 "nbformat_minor": 4
}
