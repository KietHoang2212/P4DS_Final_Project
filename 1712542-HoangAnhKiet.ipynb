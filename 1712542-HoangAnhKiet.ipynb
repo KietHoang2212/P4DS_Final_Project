{
 "cells": [
  {
   "cell_type": "markdown",
   "metadata": {},
   "source": [
    "# Đồ án cuối kỳ\n",
    "\n",
    "Họ tên: Hoàng Anh Kiệt\n",
    "\n",
    "MSSV: 1712542"
   ]
  },
  {
   "cell_type": "markdown",
   "metadata": {},
   "source": [
    "___"
   ]
  },
  {
   "cell_type": "markdown",
   "metadata": {},
   "source": [
    "## Import"
   ]
  },
  {
   "cell_type": "code",
   "execution_count": 1,
   "metadata": {},
   "outputs": [],
   "source": [
    "%matplotlib inline\n",
    "import matplotlib.pyplot as plt\n",
    "import pandas as pd\n",
    "import numpy as np"
   ]
  },
  {
   "cell_type": "markdown",
   "metadata": {},
   "source": [
    "___"
   ]
  },
  {
   "cell_type": "markdown",
   "metadata": {},
   "source": [
    "## Lấy dữ liệu"
   ]
  },
  {
   "cell_type": "markdown",
   "metadata": {},
   "source": [
    "Dữ liệu được dùng trong đồ án này là `'hotel_bookings.csv'`. Đây là dữ liệu về thông tin đặt phòng khách sạn của City Hotel (1 khách sạn nằm ở thành phố Lisbon, Bồ Đào Nha) và Resort Hotel (1 khách sạn ở khu nghỉ dưỡng Algarve, Bồ Đào Nha) trong giai đoạn từ ngày 01/07/2015 đến ngày 31/08/2017; dữ liệu ghi nhận tất cả lượt đặt phòng bao gồm cả thực sự nhận phòng và hủy đặt phòng."
   ]
  },
  {
   "cell_type": "markdown",
   "metadata": {},
   "source": [
    "Dữ liệu này được lấy từ tập dữ liệu [Hotel booking demand](https://www.kaggle.com/jessemostipak/hotel-booking-demand) trên Kaggle.\n",
    "* License: [Attribution 4.0 International (CC BY 4.0)](https://creativecommons.org/licenses/by/4.0/)\n",
    "* Dữ liệu gốc được lấy từ bài báo [Hotel Booking Demand Datasets](https://www.sciencedirect.com/science/article/pii/S2352340918315191), được tải và 'làm sạch' bởi Thomas Mock và Antoine Bichat."
   ]
  },
  {
   "cell_type": "markdown",
   "metadata": {},
   "source": [
    "Dữ liệu gốc được thu thập bằng cách trích xuất từ cơ sở dữ liệu của khách sạn (hotels’ Property Management System (PMS) SQL databases)"
   ]
  },
  {
   "cell_type": "markdown",
   "metadata": {},
   "source": [
    "___"
   ]
  },
  {
   "cell_type": "markdown",
   "metadata": {},
   "source": [
    "## Khám phá dữ liệu"
   ]
  },
  {
   "cell_type": "markdown",
   "metadata": {},
   "source": [
    "### Đọc dữ liệu vào dataframe"
   ]
  },
  {
   "cell_type": "code",
   "execution_count": 2,
   "metadata": {},
   "outputs": [
    {
     "data": {
      "text/html": [
       "<div>\n",
       "<style scoped>\n",
       "    .dataframe tbody tr th:only-of-type {\n",
       "        vertical-align: middle;\n",
       "    }\n",
       "\n",
       "    .dataframe tbody tr th {\n",
       "        vertical-align: top;\n",
       "    }\n",
       "\n",
       "    .dataframe thead th {\n",
       "        text-align: right;\n",
       "    }\n",
       "</style>\n",
       "<table border=\"1\" class=\"dataframe\">\n",
       "  <thead>\n",
       "    <tr style=\"text-align: right;\">\n",
       "      <th></th>\n",
       "      <th>hotel</th>\n",
       "      <th>is_canceled</th>\n",
       "      <th>lead_time</th>\n",
       "      <th>arrival_date_year</th>\n",
       "      <th>arrival_date_month</th>\n",
       "      <th>arrival_date_week_number</th>\n",
       "      <th>arrival_date_day_of_month</th>\n",
       "      <th>stays_in_weekend_nights</th>\n",
       "      <th>stays_in_week_nights</th>\n",
       "      <th>adults</th>\n",
       "      <th>...</th>\n",
       "      <th>deposit_type</th>\n",
       "      <th>agent</th>\n",
       "      <th>company</th>\n",
       "      <th>days_in_waiting_list</th>\n",
       "      <th>customer_type</th>\n",
       "      <th>adr</th>\n",
       "      <th>required_car_parking_spaces</th>\n",
       "      <th>total_of_special_requests</th>\n",
       "      <th>reservation_status</th>\n",
       "      <th>reservation_status_date</th>\n",
       "    </tr>\n",
       "  </thead>\n",
       "  <tbody>\n",
       "    <tr>\n",
       "      <td>0</td>\n",
       "      <td>Resort Hotel</td>\n",
       "      <td>0</td>\n",
       "      <td>342</td>\n",
       "      <td>2015</td>\n",
       "      <td>July</td>\n",
       "      <td>27</td>\n",
       "      <td>1</td>\n",
       "      <td>0</td>\n",
       "      <td>0</td>\n",
       "      <td>2</td>\n",
       "      <td>...</td>\n",
       "      <td>No Deposit</td>\n",
       "      <td>NaN</td>\n",
       "      <td>NaN</td>\n",
       "      <td>0</td>\n",
       "      <td>Transient</td>\n",
       "      <td>0.0</td>\n",
       "      <td>0</td>\n",
       "      <td>0</td>\n",
       "      <td>Check-Out</td>\n",
       "      <td>2015-07-01</td>\n",
       "    </tr>\n",
       "    <tr>\n",
       "      <td>1</td>\n",
       "      <td>Resort Hotel</td>\n",
       "      <td>0</td>\n",
       "      <td>737</td>\n",
       "      <td>2015</td>\n",
       "      <td>July</td>\n",
       "      <td>27</td>\n",
       "      <td>1</td>\n",
       "      <td>0</td>\n",
       "      <td>0</td>\n",
       "      <td>2</td>\n",
       "      <td>...</td>\n",
       "      <td>No Deposit</td>\n",
       "      <td>NaN</td>\n",
       "      <td>NaN</td>\n",
       "      <td>0</td>\n",
       "      <td>Transient</td>\n",
       "      <td>0.0</td>\n",
       "      <td>0</td>\n",
       "      <td>0</td>\n",
       "      <td>Check-Out</td>\n",
       "      <td>2015-07-01</td>\n",
       "    </tr>\n",
       "    <tr>\n",
       "      <td>2</td>\n",
       "      <td>Resort Hotel</td>\n",
       "      <td>0</td>\n",
       "      <td>7</td>\n",
       "      <td>2015</td>\n",
       "      <td>July</td>\n",
       "      <td>27</td>\n",
       "      <td>1</td>\n",
       "      <td>0</td>\n",
       "      <td>1</td>\n",
       "      <td>1</td>\n",
       "      <td>...</td>\n",
       "      <td>No Deposit</td>\n",
       "      <td>NaN</td>\n",
       "      <td>NaN</td>\n",
       "      <td>0</td>\n",
       "      <td>Transient</td>\n",
       "      <td>75.0</td>\n",
       "      <td>0</td>\n",
       "      <td>0</td>\n",
       "      <td>Check-Out</td>\n",
       "      <td>2015-07-02</td>\n",
       "    </tr>\n",
       "    <tr>\n",
       "      <td>3</td>\n",
       "      <td>Resort Hotel</td>\n",
       "      <td>0</td>\n",
       "      <td>13</td>\n",
       "      <td>2015</td>\n",
       "      <td>July</td>\n",
       "      <td>27</td>\n",
       "      <td>1</td>\n",
       "      <td>0</td>\n",
       "      <td>1</td>\n",
       "      <td>1</td>\n",
       "      <td>...</td>\n",
       "      <td>No Deposit</td>\n",
       "      <td>304.0</td>\n",
       "      <td>NaN</td>\n",
       "      <td>0</td>\n",
       "      <td>Transient</td>\n",
       "      <td>75.0</td>\n",
       "      <td>0</td>\n",
       "      <td>0</td>\n",
       "      <td>Check-Out</td>\n",
       "      <td>2015-07-02</td>\n",
       "    </tr>\n",
       "    <tr>\n",
       "      <td>4</td>\n",
       "      <td>Resort Hotel</td>\n",
       "      <td>0</td>\n",
       "      <td>14</td>\n",
       "      <td>2015</td>\n",
       "      <td>July</td>\n",
       "      <td>27</td>\n",
       "      <td>1</td>\n",
       "      <td>0</td>\n",
       "      <td>2</td>\n",
       "      <td>2</td>\n",
       "      <td>...</td>\n",
       "      <td>No Deposit</td>\n",
       "      <td>240.0</td>\n",
       "      <td>NaN</td>\n",
       "      <td>0</td>\n",
       "      <td>Transient</td>\n",
       "      <td>98.0</td>\n",
       "      <td>0</td>\n",
       "      <td>1</td>\n",
       "      <td>Check-Out</td>\n",
       "      <td>2015-07-03</td>\n",
       "    </tr>\n",
       "  </tbody>\n",
       "</table>\n",
       "<p>5 rows × 32 columns</p>\n",
       "</div>"
      ],
      "text/plain": [
       "          hotel  is_canceled  lead_time  arrival_date_year arrival_date_month  \\\n",
       "0  Resort Hotel            0        342               2015               July   \n",
       "1  Resort Hotel            0        737               2015               July   \n",
       "2  Resort Hotel            0          7               2015               July   \n",
       "3  Resort Hotel            0         13               2015               July   \n",
       "4  Resort Hotel            0         14               2015               July   \n",
       "\n",
       "   arrival_date_week_number  arrival_date_day_of_month  \\\n",
       "0                        27                          1   \n",
       "1                        27                          1   \n",
       "2                        27                          1   \n",
       "3                        27                          1   \n",
       "4                        27                          1   \n",
       "\n",
       "   stays_in_weekend_nights  stays_in_week_nights  adults  ...  deposit_type  \\\n",
       "0                        0                     0       2  ...    No Deposit   \n",
       "1                        0                     0       2  ...    No Deposit   \n",
       "2                        0                     1       1  ...    No Deposit   \n",
       "3                        0                     1       1  ...    No Deposit   \n",
       "4                        0                     2       2  ...    No Deposit   \n",
       "\n",
       "   agent company days_in_waiting_list customer_type   adr  \\\n",
       "0    NaN     NaN                    0     Transient   0.0   \n",
       "1    NaN     NaN                    0     Transient   0.0   \n",
       "2    NaN     NaN                    0     Transient  75.0   \n",
       "3  304.0     NaN                    0     Transient  75.0   \n",
       "4  240.0     NaN                    0     Transient  98.0   \n",
       "\n",
       "   required_car_parking_spaces  total_of_special_requests  reservation_status  \\\n",
       "0                            0                          0           Check-Out   \n",
       "1                            0                          0           Check-Out   \n",
       "2                            0                          0           Check-Out   \n",
       "3                            0                          0           Check-Out   \n",
       "4                            0                          1           Check-Out   \n",
       "\n",
       "  reservation_status_date  \n",
       "0              2015-07-01  \n",
       "1              2015-07-01  \n",
       "2              2015-07-02  \n",
       "3              2015-07-02  \n",
       "4              2015-07-03  \n",
       "\n",
       "[5 rows x 32 columns]"
      ]
     },
     "execution_count": 2,
     "metadata": {},
     "output_type": "execute_result"
    }
   ],
   "source": [
    "booking_df = pd.read_csv('hotel_bookings.csv')\n",
    "booking_df.head()"
   ]
  },
  {
   "cell_type": "markdown",
   "metadata": {},
   "source": [
    "### Dữ liệu có bao nhiêu dòng và cột?"
   ]
  },
  {
   "cell_type": "code",
   "execution_count": 3,
   "metadata": {},
   "outputs": [
    {
     "name": "stdout",
     "output_type": "stream",
     "text": [
      "num_rows: 119390\n",
      "num_cols 32\n"
     ]
    }
   ],
   "source": [
    "num_rows, num_cols = booking_df.shape\n",
    "print('num_rows:', num_rows)\n",
    "print('num_cols', num_cols)"
   ]
  },
  {
   "cell_type": "markdown",
   "metadata": {},
   "source": [
    "Dữ liệu có 119390 dòng và 32 cột."
   ]
  },
  {
   "cell_type": "markdown",
   "metadata": {},
   "source": [
    "### Mỗi dòng có ý nghĩa gì?"
   ]
  },
  {
   "cell_type": "markdown",
   "metadata": {},
   "source": [
    "Mỗi dòng ứng với thông tin của một lượt đặt phòng khách sạn."
   ]
  },
  {
   "cell_type": "markdown",
   "metadata": {},
   "source": [
    "### Mỗi cột có ý nghĩa gì?"
   ]
  },
  {
   "cell_type": "markdown",
   "metadata": {},
   "source": [
    "* **hotel**: cho biết đặt phòng ở khách sạn nào? *(Resort Hotel hay City Hotel?)*\n",
    "* **is_canceled**: cho biết lượt đặt phòng này có bị hủy hay không? *(1 nếu bị hủy, 2 nếu không hủy)*\n",
    "* **lead_time**: cho biết số ngày tình từ ngày đặt phòng (được nhập vào PMS SQL databases) đến ngày đến nhận phòng.\n",
    "* **arrival_date_year**: cho biết năm của ngày đến nhận phòng.\n",
    "* **arrival_date_month**: cho biết tháng của ngày đến nhận phòng.\n",
    "* **arrival_date_week_number**: cho biết tuần ngày đến nhận phòng.\n",
    "* **arrival_date_day_of_month**: cho biết ngày trong tháng của ngày đến nhận phòng (day).\n",
    "* **stays_in_weekend_nights**: cho biết số đêm cuối tuần (Thứ Bảy, Chủ Nhật) mà khách ở hoặc đặt phòng tại khách sạn.\n",
    "* **stays_in_week_nights**: cho biết số đêm trong tuần (từ Thứ Hai đến Thứ Sáu) mà khách ở hoặc đặt phòng tại khách sạn.\n",
    "* **adults**: cho biết số lượng người lớn của lượt đặt phòng này.\n",
    "* **children**: cho biết số lượng trẻ em của lượt đặt phòng này.\n",
    "* **babies**: cho biết số lượng trẻ sơ sinh của lượt đặt phòng này.\n",
    "* **meal**: cho biết loại bữa ăn đã đặt. *(Undefined/SC: không gói bữa ăn; BB: Bed & Breakfast; HB: Haft board (bữa sáng và 1 bữa ăn khác - thường là bữa tối); FB: Full board (bữa sáng, trưa và tối))*\n",
    "* **country**: cho biết khách hàng đến từ quốc gia nào. *(Được trình bày ở định dạng ISO 3155-3:2013)*\n",
    "* **market_segment**: cho biết phân khúc thị trường *(em chưa hiểu rõ lắm)*. *(TA: Đại lý du lịch(Travel Agents); TO: công ty kinh doanh lữ hành(Tour Operators);...)*\n",
    "* **distribution_channel**: cho biết kênh phân phối đặt phòng *(em chưa hiểu rõ lắm)*. *(TA: Đại lý du lịch(Travel Agents); TO: công ty kinh doanh lữ hành(Tour Operators);...)*\n",
    "* **is_repeated_guest**: cho biết khách hàng đã từng đặt phòng nhiều lần? *(1 nếu khách hàng đã từng đặt phòng ở đây, 0 nếu khách hàng chưa từng đặt phòng ở đây)*\n",
    "* **previous_cancellations**: cho biết số lượt đặt phòng mà khách hàng đã hủy trước lượt đặt hiện tại.\n",
    "* **previous_bookings_not_canceled**: cho biết số lượt đặt phòng trước đó mà khách hàng không hủy trước lượt đặt hiện tại.\n",
    "* **reserved_room_type**: mã của loại phòng đã đặt trước.\n",
    "* **assigned_room_type**: mã của loại phòng được chỉ định cho đặt phòng. *(Đôi khi vì một số lý do mà loại phòng được chỉ định khác với loại phòng mà khác hàng đã đặt trước, có thể vì lý do yêu cầu hoạt động của khách sạn hoặc do yêu cầu của khách hàng)*\n",
    "* **booking_changes**: cho biết số lượng thay đổi đối với lượt đặt phòng từ thời điểm đặt phòng được nhập trên PMS cho đến thời điểm nhận phòng hoặc hủy bỏ phòng.\n",
    "* **deposit_type**: cho biết khách hàng có đặt cọc trước để đảm bảo có phòng ở hay không. *(No Deposit: không đặt cọc; Non Refund: đặt cọc một khoản bằng tổng chi phí lưu trú; Refundable: đặt cọc một khoản nhỏ hơn tổng chi phí lưu trú)*\n",
    "* **agent**: ID của đại lý du lịch đã thực hiện đặt phòng.\n",
    "* **company**: ID của công ty/tổ chức đã thực hiện đặt phòng hoặc chịu trách nhiệm thanh toán đặt phòng.\n",
    "* **days_in_waiting_list**: cho biết số ngày mà lượt đặt phòng phải chờ trước khi được xác nhận cho khách hàng.\n",
    "* **customer_type**: cho biết loại đặt phòng. *(Contract: khi đặt phòng có giao khoán hoặc các loại hợp đồng khác liên quan đến nó; Group: khi đặt phòng được liên kết với một nhóm; Transient: khi đặt phòng không thuộc nhóm (Group) hoặc hợp đồng (Contract) và không liên quan đến đặt chỗ tạm thời khác; Transient-party: khi đặt phòng chỉ là tạm thời nhưng được liên kết với ít nhất 1 đặt chỗ tạm thời khác)*\n",
    "* **adr**: (Average Daily Rate) cho biết giá tiền trung bình 1 ngày. *(được tính bằng Tổng chi phí lưu trú chia cho tổng số đêm lưu trú)*\n",
    "* **required_car_parking_spaces**: cho biết số lượng chỗ để xe mà khách hàng yêu cầu.\n",
    "* **total_of_special_requests**: cho biết số lượng các yêu câu đặc biệt khác của khách hàng *(như là phải có giường đôi hay phải ở tầng cao,...)*\n",
    "* **reservation_status**: cho biết trạng thái đặt phòng cuối cùng. *(Canceled: khách đã hủy đặt phòng; Check-Out: khách đã thực hiện trả phòng; No-Show: khách không nhận phòng và đã thông báo lý do cho khách sạn)*\n",
    "* **reservation_status_date**: cho biết ngày mà trạng thái đặt phòng cuối cùng được thiết lập. *(có thể kết hợp với 'reservation_status' để cho biết khi nào đặt phòng bị hủy hay khi nào khách trả phòng)*"
   ]
  },
  {
   "cell_type": "markdown",
   "metadata": {},
   "source": [
    "### Kiểu dữ liệu mỗi cột?"
   ]
  },
  {
   "cell_type": "code",
   "execution_count": 4,
   "metadata": {},
   "outputs": [
    {
     "data": {
      "text/plain": [
       "hotel                              object\n",
       "is_canceled                         int64\n",
       "lead_time                           int64\n",
       "arrival_date_year                   int64\n",
       "arrival_date_month                 object\n",
       "arrival_date_week_number            int64\n",
       "arrival_date_day_of_month           int64\n",
       "stays_in_weekend_nights             int64\n",
       "stays_in_week_nights                int64\n",
       "adults                              int64\n",
       "children                          float64\n",
       "babies                              int64\n",
       "meal                               object\n",
       "country                            object\n",
       "market_segment                     object\n",
       "distribution_channel               object\n",
       "is_repeated_guest                   int64\n",
       "previous_cancellations              int64\n",
       "previous_bookings_not_canceled      int64\n",
       "reserved_room_type                 object\n",
       "assigned_room_type                 object\n",
       "booking_changes                     int64\n",
       "deposit_type                       object\n",
       "agent                             float64\n",
       "company                           float64\n",
       "days_in_waiting_list                int64\n",
       "customer_type                      object\n",
       "adr                               float64\n",
       "required_car_parking_spaces         int64\n",
       "total_of_special_requests           int64\n",
       "reservation_status                 object\n",
       "reservation_status_date            object\n",
       "dtype: object"
      ]
     },
     "execution_count": 4,
     "metadata": {},
     "output_type": "execute_result"
    }
   ],
   "source": [
    "booking_df.dtypes"
   ]
  },
  {
   "cell_type": "markdown",
   "metadata": {},
   "source": [
    "**Vấn đề:**\n",
    "\n",
    "- Cột 'reservation_status_date' đang có dtype là `object`. Ta sẽ chuyển sang dạng `datetime`.\n",
    "- Cột 'children' đang có dtype là `float`, ta cần chuyển về dạng `int` *(vì số lượng trẻ em phải là số nguyên)*.\n",
    "- Kết hợp 3 cột 'arrival_date_year', 'arrival_date_month', 'arrival_date_day_of_month' thành 1 cột duy nhất là 'arrival_date' có dtype là `datetime` thì sẽ có nhiều ý nghĩa hơn là để riêng lẻ 3 cột *(sau đó ta sẽ drop 3 cột ban đầu đi)*."
   ]
  },
  {
   "cell_type": "markdown",
   "metadata": {},
   "source": [
    "#### Chuyển dtype của cột 'reservation_status_date' sang datetime"
   ]
  },
  {
   "cell_type": "code",
   "execution_count": 5,
   "metadata": {},
   "outputs": [],
   "source": [
    "booking_df['reservation_status_date'] = pd.to_datetime(booking_df['reservation_status_date'], format=\"%Y-%m-%d\")"
   ]
  },
  {
   "cell_type": "markdown",
   "metadata": {},
   "source": [
    "#### Chuyển dtype của cột 'children' sang dạng int"
   ]
  },
  {
   "cell_type": "markdown",
   "metadata": {},
   "source": [
    "Ban đầu, ta sẽ không thể chuyển dtype của cột 'children' sang dạng `int` ngay được vì tồn tại giá trị NaN:"
   ]
  },
  {
   "cell_type": "code",
   "execution_count": 6,
   "metadata": {},
   "outputs": [
    {
     "data": {
      "text/plain": [
       "40600   NaN\n",
       "40667   NaN\n",
       "40679   NaN\n",
       "41160   NaN\n",
       "Name: children, dtype: float64"
      ]
     },
     "execution_count": 6,
     "metadata": {},
     "output_type": "execute_result"
    }
   ],
   "source": [
    "booking_df[booking_df['children'].isna()]['children']"
   ]
  },
  {
   "cell_type": "markdown",
   "metadata": {},
   "source": [
    "Các giá trị NaN này là các ô trống, có thể là các lượt đặt phòng này không có trẻ em đi cùng. Do đó sẽ khá hợp lý khi ta điền vào những ô trống này giá trị 0."
   ]
  },
  {
   "cell_type": "code",
   "execution_count": 7,
   "metadata": {},
   "outputs": [],
   "source": [
    "# Điền vào ô trống giá trị 0\n",
    "booking_df['children'].fillna(0, inplace=True)"
   ]
  },
  {
   "cell_type": "markdown",
   "metadata": {},
   "source": [
    "Bây giờ ta có thể chuyển dtype của cột 'children' sang dạng `int`:"
   ]
  },
  {
   "cell_type": "code",
   "execution_count": 8,
   "metadata": {},
   "outputs": [],
   "source": [
    "booking_df['children'] = booking_df['children'].astype('int')"
   ]
  },
  {
   "cell_type": "markdown",
   "metadata": {},
   "source": [
    "#### Gom 3 cột  'arrival_date_year', 'arrival_date_month', 'arrival_date_day_of_month' thành 1 cột 'arrival_date' có dtype là datetime"
   ]
  },
  {
   "cell_type": "markdown",
   "metadata": {},
   "source": [
    "Gom 3 cột 'arrival_date_year', 'arrival_date_month', 'arrival_date_day_of_month' lại thành 1 cột 'arrival_date'. \n",
    "* **arrival_date**: thể hiện ngày tháng năm của ngày đến nhận phòng."
   ]
  },
  {
   "cell_type": "code",
   "execution_count": 9,
   "metadata": {},
   "outputs": [],
   "source": [
    "booking_df['arrival_date'] = pd.to_datetime(booking_df['arrival_date_year'].astype(str) + '-' \n",
    "                                            +  booking_df['arrival_date_month'].astype(str) + '-' \n",
    "                                            + booking_df['arrival_date_day_of_month'].astype(str), format=\"%Y-%B-%d\")"
   ]
  },
  {
   "cell_type": "markdown",
   "metadata": {},
   "source": [
    "Drop 3 cột 'arrival_date_year', 'arrival_date_month', 'arrival_date_day_of_month' vì ta đã có cột 'arrival_date' rồi"
   ]
  },
  {
   "cell_type": "code",
   "execution_count": 10,
   "metadata": {},
   "outputs": [],
   "source": [
    "booking_df.drop(columns=['arrival_date_year', 'arrival_date_month', 'arrival_date_day_of_month'], inplace=True)"
   ]
  },
  {
   "cell_type": "markdown",
   "metadata": {},
   "source": [
    "Sau khi xử lý kiểu dữ liệu của các cột là *(hiện tại ta có 30 cột)*:"
   ]
  },
  {
   "cell_type": "code",
   "execution_count": 11,
   "metadata": {},
   "outputs": [
    {
     "data": {
      "text/plain": [
       "hotel                                     object\n",
       "is_canceled                                int64\n",
       "lead_time                                  int64\n",
       "arrival_date_week_number                   int64\n",
       "stays_in_weekend_nights                    int64\n",
       "stays_in_week_nights                       int64\n",
       "adults                                     int64\n",
       "children                                   int32\n",
       "babies                                     int64\n",
       "meal                                      object\n",
       "country                                   object\n",
       "market_segment                            object\n",
       "distribution_channel                      object\n",
       "is_repeated_guest                          int64\n",
       "previous_cancellations                     int64\n",
       "previous_bookings_not_canceled             int64\n",
       "reserved_room_type                        object\n",
       "assigned_room_type                        object\n",
       "booking_changes                            int64\n",
       "deposit_type                              object\n",
       "agent                                    float64\n",
       "company                                  float64\n",
       "days_in_waiting_list                       int64\n",
       "customer_type                             object\n",
       "adr                                      float64\n",
       "required_car_parking_spaces                int64\n",
       "total_of_special_requests                  int64\n",
       "reservation_status                        object\n",
       "reservation_status_date           datetime64[ns]\n",
       "arrival_date                      datetime64[ns]\n",
       "dtype: object"
      ]
     },
     "execution_count": 11,
     "metadata": {},
     "output_type": "execute_result"
    }
   ],
   "source": [
    "booking_df.dtypes"
   ]
  },
  {
   "cell_type": "markdown",
   "metadata": {},
   "source": [
    "### Miền giá trị của các cột dạng Numeric và Datetime"
   ]
  },
  {
   "cell_type": "code",
   "execution_count": 12,
   "metadata": {},
   "outputs": [
    {
     "name": "stdout",
     "output_type": "stream",
     "text": [
      "<class 'pandas.core.frame.DataFrame'>\n",
      "RangeIndex: 119390 entries, 0 to 119389\n",
      "Data columns (total 30 columns):\n",
      "hotel                             119390 non-null object\n",
      "is_canceled                       119390 non-null int64\n",
      "lead_time                         119390 non-null int64\n",
      "arrival_date_week_number          119390 non-null int64\n",
      "stays_in_weekend_nights           119390 non-null int64\n",
      "stays_in_week_nights              119390 non-null int64\n",
      "adults                            119390 non-null int64\n",
      "children                          119390 non-null int32\n",
      "babies                            119390 non-null int64\n",
      "meal                              119390 non-null object\n",
      "country                           118902 non-null object\n",
      "market_segment                    119390 non-null object\n",
      "distribution_channel              119390 non-null object\n",
      "is_repeated_guest                 119390 non-null int64\n",
      "previous_cancellations            119390 non-null int64\n",
      "previous_bookings_not_canceled    119390 non-null int64\n",
      "reserved_room_type                119390 non-null object\n",
      "assigned_room_type                119390 non-null object\n",
      "booking_changes                   119390 non-null int64\n",
      "deposit_type                      119390 non-null object\n",
      "agent                             103050 non-null float64\n",
      "company                           6797 non-null float64\n",
      "days_in_waiting_list              119390 non-null int64\n",
      "customer_type                     119390 non-null object\n",
      "adr                               119390 non-null float64\n",
      "required_car_parking_spaces       119390 non-null int64\n",
      "total_of_special_requests         119390 non-null int64\n",
      "reservation_status                119390 non-null object\n",
      "reservation_status_date           119390 non-null datetime64[ns]\n",
      "arrival_date                      119390 non-null datetime64[ns]\n",
      "dtypes: datetime64[ns](2), float64(3), int32(1), int64(14), object(10)\n",
      "memory usage: 26.9+ MB\n"
     ]
    }
   ],
   "source": [
    "booking_df.info()"
   ]
  },
  {
   "cell_type": "markdown",
   "metadata": {},
   "source": [
    "Trong 30 cột, ta có 20 cột có kiểu `numeric` hoặc `datetime` là: \"is_canceled\", \"lead_time\", \"arrival_date_week_number\", \"stays_in_weekend_nights\", \"stays_in_week_nights\", \"adults\", \"children\", \"babies\", \"is_repeated_guest\", \"previous_cancellations\", \"previous_bookings_not_canceled\", \"booking_changes\", \"agent\", \"company\", \"days_in_waiting_list\", \"adr\", \"required_car_parking_spaces\", \"total_of_special_requests\", \"reservation_status_date\", \"arrival_date\"."
   ]
  },
  {
   "cell_type": "markdown",
   "metadata": {},
   "source": [
    "Trong đó có 2 cột \"is_canceled\", \"is_repeated_guest\" thật ra là dạng binary (chỉ có 2 giá trị 0 và 1); 2 cột \"agent\", \"company\" thật ra là dạng categorical (vì được đánh mã dưới dạng số). Do đó ta cần thể hiện miền giá trị của 16 cột còn lại."
   ]
  },
  {
   "cell_type": "code",
   "execution_count": 13,
   "metadata": {},
   "outputs": [],
   "source": [
    "# Danh sách các tên cột mà dtypes khác 'object'\n",
    "numeric_cols_name = set(booking_df.dtypes[booking_df.dtypes != 'object'].index)\n",
    "# Bỏ 4 cột \"is_canceled\", \"is_repeated_guest\", \"agent\", \"company\"\n",
    "numeric_cols_name -= {\"is_canceled\", \"is_repeated_guest\", \"agent\", \"company\"}"
   ]
  },
  {
   "cell_type": "markdown",
   "metadata": {},
   "source": [
    "Miền giá trị của các biến numeric hoặc datetime:"
   ]
  },
  {
   "cell_type": "code",
   "execution_count": 14,
   "metadata": {},
   "outputs": [
    {
     "data": {
      "text/html": [
       "<div>\n",
       "<style scoped>\n",
       "    .dataframe tbody tr th:only-of-type {\n",
       "        vertical-align: middle;\n",
       "    }\n",
       "\n",
       "    .dataframe tbody tr th {\n",
       "        vertical-align: top;\n",
       "    }\n",
       "\n",
       "    .dataframe thead th {\n",
       "        text-align: right;\n",
       "    }\n",
       "</style>\n",
       "<table border=\"1\" class=\"dataframe\">\n",
       "  <thead>\n",
       "    <tr style=\"text-align: right;\">\n",
       "      <th></th>\n",
       "      <th>min</th>\n",
       "      <th>max</th>\n",
       "    </tr>\n",
       "  </thead>\n",
       "  <tbody>\n",
       "    <tr>\n",
       "      <td>days_in_waiting_list</td>\n",
       "      <td>0</td>\n",
       "      <td>391</td>\n",
       "    </tr>\n",
       "    <tr>\n",
       "      <td>arrival_date_week_number</td>\n",
       "      <td>1</td>\n",
       "      <td>53</td>\n",
       "    </tr>\n",
       "    <tr>\n",
       "      <td>adr</td>\n",
       "      <td>-6.38</td>\n",
       "      <td>5400</td>\n",
       "    </tr>\n",
       "    <tr>\n",
       "      <td>total_of_special_requests</td>\n",
       "      <td>0</td>\n",
       "      <td>5</td>\n",
       "    </tr>\n",
       "    <tr>\n",
       "      <td>previous_bookings_not_canceled</td>\n",
       "      <td>0</td>\n",
       "      <td>72</td>\n",
       "    </tr>\n",
       "    <tr>\n",
       "      <td>babies</td>\n",
       "      <td>0</td>\n",
       "      <td>10</td>\n",
       "    </tr>\n",
       "    <tr>\n",
       "      <td>adults</td>\n",
       "      <td>0</td>\n",
       "      <td>55</td>\n",
       "    </tr>\n",
       "    <tr>\n",
       "      <td>booking_changes</td>\n",
       "      <td>0</td>\n",
       "      <td>21</td>\n",
       "    </tr>\n",
       "    <tr>\n",
       "      <td>children</td>\n",
       "      <td>0</td>\n",
       "      <td>10</td>\n",
       "    </tr>\n",
       "    <tr>\n",
       "      <td>stays_in_week_nights</td>\n",
       "      <td>0</td>\n",
       "      <td>50</td>\n",
       "    </tr>\n",
       "    <tr>\n",
       "      <td>arrival_date</td>\n",
       "      <td>2015-07-01 00:00:00</td>\n",
       "      <td>2017-08-31 00:00:00</td>\n",
       "    </tr>\n",
       "    <tr>\n",
       "      <td>previous_cancellations</td>\n",
       "      <td>0</td>\n",
       "      <td>26</td>\n",
       "    </tr>\n",
       "    <tr>\n",
       "      <td>lead_time</td>\n",
       "      <td>0</td>\n",
       "      <td>737</td>\n",
       "    </tr>\n",
       "    <tr>\n",
       "      <td>required_car_parking_spaces</td>\n",
       "      <td>0</td>\n",
       "      <td>8</td>\n",
       "    </tr>\n",
       "    <tr>\n",
       "      <td>reservation_status_date</td>\n",
       "      <td>2014-10-17 00:00:00</td>\n",
       "      <td>2017-09-14 00:00:00</td>\n",
       "    </tr>\n",
       "    <tr>\n",
       "      <td>stays_in_weekend_nights</td>\n",
       "      <td>0</td>\n",
       "      <td>19</td>\n",
       "    </tr>\n",
       "  </tbody>\n",
       "</table>\n",
       "</div>"
      ],
      "text/plain": [
       "                                                min                  max\n",
       "days_in_waiting_list                              0                  391\n",
       "arrival_date_week_number                          1                   53\n",
       "adr                                           -6.38                 5400\n",
       "total_of_special_requests                         0                    5\n",
       "previous_bookings_not_canceled                    0                   72\n",
       "babies                                            0                   10\n",
       "adults                                            0                   55\n",
       "booking_changes                                   0                   21\n",
       "children                                          0                   10\n",
       "stays_in_week_nights                              0                   50\n",
       "arrival_date                    2015-07-01 00:00:00  2017-08-31 00:00:00\n",
       "previous_cancellations                            0                   26\n",
       "lead_time                                         0                  737\n",
       "required_car_parking_spaces                       0                    8\n",
       "reservation_status_date         2014-10-17 00:00:00  2017-09-14 00:00:00\n",
       "stays_in_weekend_nights                           0                   19"
      ]
     },
     "execution_count": 14,
     "metadata": {},
     "output_type": "execute_result"
    }
   ],
   "source": [
    "pd.DataFrame({'min': booking_df[numeric_cols_name].min(),\n",
    "              'max': booking_df[numeric_cols_name].max()})"
   ]
  },
  {
   "cell_type": "markdown",
   "metadata": {},
   "source": [
    "### Các giá trị có thể có của các cột dạng categorical?"
   ]
  },
  {
   "cell_type": "code",
   "execution_count": 15,
   "metadata": {},
   "outputs": [],
   "source": [
    "# Danh sách các tên cột dạng categorical\n",
    "# Lấy danh sách các tất cả các cột bỏ đi các cột dạng numeric hoặc datetime và các cột dạng binary\n",
    "cat_cols_name = set(booking_df.columns) - numeric_cols_name - {\"is_canceled\", \"is_repeated_guest\"}"
   ]
  },
  {
   "cell_type": "markdown",
   "metadata": {},
   "source": [
    "Danh sách các giá trị có thể có của các cột dạng categorical (Nếu quá nhiều giá trị thì sẽ bị thể hiện bởi dấu ba chấm):"
   ]
  },
  {
   "cell_type": "code",
   "execution_count": 16,
   "metadata": {},
   "outputs": [],
   "source": [
    "# Số lượng giá trị unique\n",
    "num_unique_val = booking_df[cat_cols_name].nunique()\n",
    "# List các giá trị unique đã được sắp tăng dần theo thứ tự\n",
    "unique_val = booking_df[cat_cols_name].apply(lambda s: list(s.sort_values().unique()))"
   ]
  },
  {
   "cell_type": "code",
   "execution_count": 17,
   "metadata": {},
   "outputs": [
    {
     "data": {
      "text/html": [
       "<div>\n",
       "<style scoped>\n",
       "    .dataframe tbody tr th:only-of-type {\n",
       "        vertical-align: middle;\n",
       "    }\n",
       "\n",
       "    .dataframe tbody tr th {\n",
       "        vertical-align: top;\n",
       "    }\n",
       "\n",
       "    .dataframe thead th {\n",
       "        text-align: right;\n",
       "    }\n",
       "</style>\n",
       "<table border=\"1\" class=\"dataframe\">\n",
       "  <thead>\n",
       "    <tr style=\"text-align: right;\">\n",
       "      <th></th>\n",
       "      <th>NumUniqueVals</th>\n",
       "      <th>UniqueVals</th>\n",
       "    </tr>\n",
       "  </thead>\n",
       "  <tbody>\n",
       "    <tr>\n",
       "      <td>reserved_room_type</td>\n",
       "      <td>10</td>\n",
       "      <td>[A, B, C, D, E, F, G, H, L, P]</td>\n",
       "    </tr>\n",
       "    <tr>\n",
       "      <td>reservation_status</td>\n",
       "      <td>3</td>\n",
       "      <td>[Canceled, Check-Out, No-Show]</td>\n",
       "    </tr>\n",
       "    <tr>\n",
       "      <td>customer_type</td>\n",
       "      <td>4</td>\n",
       "      <td>[Contract, Group, Transient, Transient-Party]</td>\n",
       "    </tr>\n",
       "    <tr>\n",
       "      <td>market_segment</td>\n",
       "      <td>8</td>\n",
       "      <td>[Aviation, Complementary, Corporate, Direct, G...</td>\n",
       "    </tr>\n",
       "    <tr>\n",
       "      <td>meal</td>\n",
       "      <td>5</td>\n",
       "      <td>[BB, FB, HB, SC, Undefined]</td>\n",
       "    </tr>\n",
       "    <tr>\n",
       "      <td>country</td>\n",
       "      <td>177</td>\n",
       "      <td>[ABW, AGO, AIA, ALB, AND, ARE, ARG, ARM, ASM, ...</td>\n",
       "    </tr>\n",
       "    <tr>\n",
       "      <td>assigned_room_type</td>\n",
       "      <td>12</td>\n",
       "      <td>[A, B, C, D, E, F, G, H, I, K, L, P]</td>\n",
       "    </tr>\n",
       "    <tr>\n",
       "      <td>distribution_channel</td>\n",
       "      <td>5</td>\n",
       "      <td>[Corporate, Direct, GDS, TA/TO, Undefined]</td>\n",
       "    </tr>\n",
       "    <tr>\n",
       "      <td>company</td>\n",
       "      <td>352</td>\n",
       "      <td>[6.0, 8.0, 9.0, 10.0, 11.0, 12.0, 14.0, 16.0, ...</td>\n",
       "    </tr>\n",
       "    <tr>\n",
       "      <td>deposit_type</td>\n",
       "      <td>3</td>\n",
       "      <td>[No Deposit, Non Refund, Refundable]</td>\n",
       "    </tr>\n",
       "    <tr>\n",
       "      <td>agent</td>\n",
       "      <td>333</td>\n",
       "      <td>[1.0, 2.0, 3.0, 4.0, 5.0, 6.0, 7.0, 8.0, 9.0, ...</td>\n",
       "    </tr>\n",
       "    <tr>\n",
       "      <td>hotel</td>\n",
       "      <td>2</td>\n",
       "      <td>[City Hotel, Resort Hotel]</td>\n",
       "    </tr>\n",
       "  </tbody>\n",
       "</table>\n",
       "</div>"
      ],
      "text/plain": [
       "                      NumUniqueVals  \\\n",
       "reserved_room_type               10   \n",
       "reservation_status                3   \n",
       "customer_type                     4   \n",
       "market_segment                    8   \n",
       "meal                              5   \n",
       "country                         177   \n",
       "assigned_room_type               12   \n",
       "distribution_channel              5   \n",
       "company                         352   \n",
       "deposit_type                      3   \n",
       "agent                           333   \n",
       "hotel                             2   \n",
       "\n",
       "                                                             UniqueVals  \n",
       "reserved_room_type                       [A, B, C, D, E, F, G, H, L, P]  \n",
       "reservation_status                       [Canceled, Check-Out, No-Show]  \n",
       "customer_type             [Contract, Group, Transient, Transient-Party]  \n",
       "market_segment        [Aviation, Complementary, Corporate, Direct, G...  \n",
       "meal                                        [BB, FB, HB, SC, Undefined]  \n",
       "country               [ABW, AGO, AIA, ALB, AND, ARE, ARG, ARM, ASM, ...  \n",
       "assigned_room_type                 [A, B, C, D, E, F, G, H, I, K, L, P]  \n",
       "distribution_channel         [Corporate, Direct, GDS, TA/TO, Undefined]  \n",
       "company               [6.0, 8.0, 9.0, 10.0, 11.0, 12.0, 14.0, 16.0, ...  \n",
       "deposit_type                       [No Deposit, Non Refund, Refundable]  \n",
       "agent                 [1.0, 2.0, 3.0, 4.0, 5.0, 6.0, 7.0, 8.0, 9.0, ...  \n",
       "hotel                                        [City Hotel, Resort Hotel]  "
      ]
     },
     "execution_count": 17,
     "metadata": {},
     "output_type": "execute_result"
    }
   ],
   "source": [
    "pd.DataFrame({'NumUniqueVals': num_unique_val, 'UniqueVals': unique_val})"
   ]
  },
  {
   "cell_type": "markdown",
   "metadata": {},
   "source": [
    "### Các giá trị bị thiếu?"
   ]
  },
  {
   "cell_type": "markdown",
   "metadata": {},
   "source": [
    "Số lượng các giá trị bị thiếu mỗi cột:"
   ]
  },
  {
   "cell_type": "code",
   "execution_count": 18,
   "metadata": {},
   "outputs": [
    {
     "data": {
      "text/plain": [
       "hotel                                  0\n",
       "is_canceled                            0\n",
       "lead_time                              0\n",
       "arrival_date_week_number               0\n",
       "stays_in_weekend_nights                0\n",
       "stays_in_week_nights                   0\n",
       "adults                                 0\n",
       "children                               0\n",
       "babies                                 0\n",
       "meal                                   0\n",
       "country                              488\n",
       "market_segment                         0\n",
       "distribution_channel                   0\n",
       "is_repeated_guest                      0\n",
       "previous_cancellations                 0\n",
       "previous_bookings_not_canceled         0\n",
       "reserved_room_type                     0\n",
       "assigned_room_type                     0\n",
       "booking_changes                        0\n",
       "deposit_type                           0\n",
       "agent                              16340\n",
       "company                           112593\n",
       "days_in_waiting_list                   0\n",
       "customer_type                          0\n",
       "adr                                    0\n",
       "required_car_parking_spaces            0\n",
       "total_of_special_requests              0\n",
       "reservation_status                     0\n",
       "reservation_status_date                0\n",
       "arrival_date                           0\n",
       "dtype: int64"
      ]
     },
     "execution_count": 18,
     "metadata": {},
     "output_type": "execute_result"
    }
   ],
   "source": [
    "booking_df.isna().sum()"
   ]
  },
  {
   "cell_type": "markdown",
   "metadata": {},
   "source": [
    "Có 3 cột có giá trị bị thiếu là \"country\", \"agent\" và \"company\". Đối với cột \"country\" giá trị bị thiếu có thể là do không xác định được khách hàng đến từ quốc gia nào. Đối với cột \"agent\" và \"company\", các giá trị bị thiếu có thể do đây là các lượt đặt phòng cá nhân, không thông qua bất kỳ đại lý hay công ty nào."
   ]
  },
  {
   "cell_type": "markdown",
   "metadata": {},
   "source": [
    "### Các giá trị bất thường?"
   ]
  },
  {
   "cell_type": "markdown",
   "metadata": {},
   "source": [
    "#### Cột \"adr\""
   ]
  },
  {
   "cell_type": "markdown",
   "metadata": {},
   "source": [
    "Như đã biết cột \"adr\" cho biết giá tiền trung bình 1 ngày (được tính bằng Tổng chi phí lưu trú chia cho tổng số đêm lưu trú).\n",
    "Tuy nhiên lại xuất hiện giá trị âm:"
   ]
  },
  {
   "cell_type": "code",
   "execution_count": 19,
   "metadata": {},
   "outputs": [
    {
     "data": {
      "text/html": [
       "<div>\n",
       "<style scoped>\n",
       "    .dataframe tbody tr th:only-of-type {\n",
       "        vertical-align: middle;\n",
       "    }\n",
       "\n",
       "    .dataframe tbody tr th {\n",
       "        vertical-align: top;\n",
       "    }\n",
       "\n",
       "    .dataframe thead th {\n",
       "        text-align: right;\n",
       "    }\n",
       "</style>\n",
       "<table border=\"1\" class=\"dataframe\">\n",
       "  <thead>\n",
       "    <tr style=\"text-align: right;\">\n",
       "      <th></th>\n",
       "      <th>hotel</th>\n",
       "      <th>is_canceled</th>\n",
       "      <th>lead_time</th>\n",
       "      <th>arrival_date_week_number</th>\n",
       "      <th>stays_in_weekend_nights</th>\n",
       "      <th>stays_in_week_nights</th>\n",
       "      <th>adults</th>\n",
       "      <th>children</th>\n",
       "      <th>babies</th>\n",
       "      <th>meal</th>\n",
       "      <th>...</th>\n",
       "      <th>agent</th>\n",
       "      <th>company</th>\n",
       "      <th>days_in_waiting_list</th>\n",
       "      <th>customer_type</th>\n",
       "      <th>adr</th>\n",
       "      <th>required_car_parking_spaces</th>\n",
       "      <th>total_of_special_requests</th>\n",
       "      <th>reservation_status</th>\n",
       "      <th>reservation_status_date</th>\n",
       "      <th>arrival_date</th>\n",
       "    </tr>\n",
       "  </thead>\n",
       "  <tbody>\n",
       "    <tr>\n",
       "      <td>14969</td>\n",
       "      <td>Resort Hotel</td>\n",
       "      <td>0</td>\n",
       "      <td>195</td>\n",
       "      <td>10</td>\n",
       "      <td>4</td>\n",
       "      <td>6</td>\n",
       "      <td>2</td>\n",
       "      <td>0</td>\n",
       "      <td>0</td>\n",
       "      <td>BB</td>\n",
       "      <td>...</td>\n",
       "      <td>273.0</td>\n",
       "      <td>NaN</td>\n",
       "      <td>0</td>\n",
       "      <td>Transient-Party</td>\n",
       "      <td>-6.38</td>\n",
       "      <td>0</td>\n",
       "      <td>0</td>\n",
       "      <td>Check-Out</td>\n",
       "      <td>2017-03-15</td>\n",
       "      <td>2017-03-05</td>\n",
       "    </tr>\n",
       "  </tbody>\n",
       "</table>\n",
       "<p>1 rows × 30 columns</p>\n",
       "</div>"
      ],
      "text/plain": [
       "              hotel  is_canceled  lead_time  arrival_date_week_number  \\\n",
       "14969  Resort Hotel            0        195                        10   \n",
       "\n",
       "       stays_in_weekend_nights  stays_in_week_nights  adults  children  \\\n",
       "14969                        4                     6       2         0   \n",
       "\n",
       "       babies meal  ...  agent company days_in_waiting_list    customer_type  \\\n",
       "14969       0   BB  ...  273.0     NaN                    0  Transient-Party   \n",
       "\n",
       "        adr  required_car_parking_spaces total_of_special_requests  \\\n",
       "14969 -6.38                            0                         0   \n",
       "\n",
       "      reservation_status  reservation_status_date arrival_date  \n",
       "14969          Check-Out               2017-03-15   2017-03-05  \n",
       "\n",
       "[1 rows x 30 columns]"
      ]
     },
     "execution_count": 19,
     "metadata": {},
     "output_type": "execute_result"
    }
   ],
   "source": [
    "booking_df[booking_df['adr']<0]"
   ]
  },
  {
   "cell_type": "markdown",
   "metadata": {},
   "source": [
    "Đây có thể là lỗi do nhập liệu."
   ]
  },
  {
   "cell_type": "markdown",
   "metadata": {},
   "source": [
    "____"
   ]
  },
  {
   "cell_type": "markdown",
   "metadata": {},
   "source": [
    "## Đưa ra các câu hỏi cần trả lời"
   ]
  },
  {
   "cell_type": "markdown",
   "metadata": {},
   "source": [
    "Sau quá trình khám phá dữ liệu, ta có một số câu hỏi có thể trả lời bằng dữ liệu:\n",
    "1. Với mỗi Hotel *(City Hotel và Resort Hotel)* giá tiền trung bình 1 ngày *(trung bình 'adr')* thay đổi như thế nào theo tháng đến nhận phòng *('arrival_date')*?\n",
    "    * Trả lời được câu hỏi này mình có thể biết được giá tiền trung bình 1 ngày thay đổi như thế nào theo từng tháng với mỗi Hotel.\n",
    "    * Có thể biết được với mỗi tháng giá tiền trung bình 1 ngày của Hotel nào rẻ hơn hay mắc hơn.\n",
    "    * Từ đó đối với người khách hàng có thể lựa chọn thời điểm  thích hợp *(nên đặt để nhận phòng vào tháng nào?)* và lựa chọn Hotel nào đặt phòng để có chi phí hợp lý nhất theo nhu cầu.\n",
    "2. Với mỗi Hotel, tháng nào có số lượt đặt phòng cao nhất, tháng nào có số lượt đặt phòng thấp nhất (chỉ tính năm 2016)?\n",
    "    * Do dữ liệu đặt phòng được ghi nhận vào giai đoạn từ ngày 01/07/2015 đến ngày 31/08/2017, do đó chỉ có năm 2016 là đủ 12 tháng để thể hiện rõ xu hướng.\n",
    "    * Trả lời được câu hỏi này mình có thể biết được xu hướng đặt phòng của khánh hàng, tháng nào là tháng cao điểm, tháng nào là tháng thấp điểm từ đó phía Hotel có sự chuẩn bị về dịch vụ tốt hơn.\n",
    "3. Đối với mỗi loại phòng khi đặt phòng *('reserved_room_type')*, giá trung bình 1 ngày *('adr')* và tổng số lượt đặt phòng là bao nhiêu?\n",
    "    * Sau khi trả lời được câu hỏi này, đối với khách hàng có thể biết giá trung bình 1 ngày của mỗi loại phòng là bao nhiêu từ đó lựa chọn được loại phòng phù hợp để đặt.\n",
    "    * Đối với phía Hotel có thể biết được nhu cầu khách hàng, biết được khách hàng có nhu cầu đặt loại phòng nào nhiều nhất, loại phòng nào ít nhất để có thể đáp ứng tốt nhu cầu của khách hàng.\n",
    "4. Top 10 quốc gia có nhiều khách đặt phòng nhất?\n",
    "    * Trả lời được câu hỏi này giúp Hotel biết được khách hàng của mình đa số đến từ những quốc gia nào, từ đó có thể tìm hiểu về thói quen hay khẩu vị để chuẩn bị những món ăn phù hợp chẳng hạn, hay cần có những nhân viên nói được ngôn ngữ của những quốc gia đó để giao tiếp phục vụ dễ dàng hơn.\n",
    "5. Đối với mỗi Hotel, Market Segment nào mang lại tổng doanh thu cao nhất?\n",
    "    * Nếu biết được Market Segment nào mang lại tổng doanh thu cao nhất, Hotel sẽ có những kế hoạch để phát triển phân khúc đó để mang lại doanh thu cao hơn."
   ]
  },
  {
   "cell_type": "markdown",
   "metadata": {},
   "source": [
    "____"
   ]
  },
  {
   "cell_type": "markdown",
   "metadata": {},
   "source": [
    "## Tiền xử lý"
   ]
  },
  {
   "cell_type": "markdown",
   "metadata": {},
   "source": [
    "### Thêm cột 'arrival_date_month' vào DataFrame"
   ]
  },
  {
   "cell_type": "markdown",
   "metadata": {},
   "source": [
    "Thêm cột 'arrival_date_month' vào DataFrame do mình cần thông tin tháng của ngày nhận phòng. *(Mặc dù trước đây mình đã drop cột này 😄)*"
   ]
  },
  {
   "cell_type": "code",
   "execution_count": 20,
   "metadata": {},
   "outputs": [],
   "source": [
    "# Lấy month từ 'arrival_date', thêm 'arrival_date_month' và DF\n",
    "booking_df = booking_df.assign(arrival_date_month = booking_df['arrival_date'].dt.month)"
   ]
  },
  {
   "cell_type": "markdown",
   "metadata": {},
   "source": [
    "___"
   ]
  },
  {
   "cell_type": "markdown",
   "metadata": {},
   "source": [
    "## Phân tích dữ liệu để trả lời cho các câu hỏi "
   ]
  },
  {
   "cell_type": "markdown",
   "metadata": {},
   "source": [
    "### Với mỗi Hotel (City Hotel và Resort Hotel) giá tiền trung bình 1 ngày (trung bình 'adr') thay đổi như thế nào theo tháng của ngày đến nhận phòng ('arrival_date')?"
   ]
  },
  {
   "cell_type": "markdown",
   "metadata": {},
   "source": [
    "#### Trả lời câu hỏi"
   ]
  },
  {
   "cell_type": "markdown",
   "metadata": {},
   "source": [
    "Để trả lời cho câu hỏi này, ta sẽ thực hiện các bước sau:\n",
    "- **Bước 1:** Tính DataFrame adr_each_month_df gồm 2 cột *('City Hotel' và 'Resort Hotel')* ứng với giá tiền trung bình 1 ngày của mỗi Hotel và 12 dòng *(1, 2, ..., 12)* ứng với 12 tháng.\n",
    "- **Bước 2:** Từ adr_each_month_df vẽ đồ thị dạng line để thể hiện xu hướng thay đổi của giá tiền trung bình 1 ngày của mỗi Hotel theo tháng."
   ]
  },
  {
   "cell_type": "markdown",
   "metadata": {},
   "source": [
    "##### Bước 1:"
   ]
  },
  {
   "cell_type": "markdown",
   "metadata": {},
   "source": [
    "Tính DataFrame adr_each_month_df bằng cách từ `booking_df` gom nhóm theo 'hotel' và 'arrival_date_month', sau đó tính trung bình 'adr'. Lúc này ta có MultiIndex Series, kế tiếp cần unstack để có được DataFrame theo mong muốn"
   ]
  },
  {
   "cell_type": "code",
   "execution_count": 21,
   "metadata": {},
   "outputs": [
    {
     "data": {
      "text/html": [
       "<div>\n",
       "<style scoped>\n",
       "    .dataframe tbody tr th:only-of-type {\n",
       "        vertical-align: middle;\n",
       "    }\n",
       "\n",
       "    .dataframe tbody tr th {\n",
       "        vertical-align: top;\n",
       "    }\n",
       "\n",
       "    .dataframe thead th {\n",
       "        text-align: right;\n",
       "    }\n",
       "</style>\n",
       "<table border=\"1\" class=\"dataframe\">\n",
       "  <thead>\n",
       "    <tr style=\"text-align: right;\">\n",
       "      <th>hotel</th>\n",
       "      <th>City Hotel</th>\n",
       "      <th>Resort Hotel</th>\n",
       "    </tr>\n",
       "    <tr>\n",
       "      <th>arrival_date_month</th>\n",
       "      <th></th>\n",
       "      <th></th>\n",
       "    </tr>\n",
       "  </thead>\n",
       "  <tbody>\n",
       "    <tr>\n",
       "      <td>1</td>\n",
       "      <td>82.628986</td>\n",
       "      <td>49.461883</td>\n",
       "    </tr>\n",
       "    <tr>\n",
       "      <td>2</td>\n",
       "      <td>85.088278</td>\n",
       "      <td>55.171930</td>\n",
       "    </tr>\n",
       "    <tr>\n",
       "      <td>3</td>\n",
       "      <td>92.643116</td>\n",
       "      <td>57.520147</td>\n",
       "    </tr>\n",
       "    <tr>\n",
       "      <td>4</td>\n",
       "      <td>111.251838</td>\n",
       "      <td>77.849496</td>\n",
       "    </tr>\n",
       "    <tr>\n",
       "      <td>5</td>\n",
       "      <td>121.638560</td>\n",
       "      <td>78.758134</td>\n",
       "    </tr>\n",
       "    <tr>\n",
       "      <td>6</td>\n",
       "      <td>119.074341</td>\n",
       "      <td>110.444749</td>\n",
       "    </tr>\n",
       "    <tr>\n",
       "      <td>7</td>\n",
       "      <td>110.734292</td>\n",
       "      <td>155.181299</td>\n",
       "    </tr>\n",
       "    <tr>\n",
       "      <td>8</td>\n",
       "      <td>114.680455</td>\n",
       "      <td>186.790574</td>\n",
       "    </tr>\n",
       "    <tr>\n",
       "      <td>9</td>\n",
       "      <td>110.004661</td>\n",
       "      <td>93.252030</td>\n",
       "    </tr>\n",
       "    <tr>\n",
       "      <td>10</td>\n",
       "      <td>99.974498</td>\n",
       "      <td>62.097617</td>\n",
       "    </tr>\n",
       "    <tr>\n",
       "      <td>11</td>\n",
       "      <td>88.069601</td>\n",
       "      <td>48.273993</td>\n",
       "    </tr>\n",
       "    <tr>\n",
       "      <td>12</td>\n",
       "      <td>88.826307</td>\n",
       "      <td>68.984230</td>\n",
       "    </tr>\n",
       "  </tbody>\n",
       "</table>\n",
       "</div>"
      ],
      "text/plain": [
       "hotel               City Hotel  Resort Hotel\n",
       "arrival_date_month                          \n",
       "1                    82.628986     49.461883\n",
       "2                    85.088278     55.171930\n",
       "3                    92.643116     57.520147\n",
       "4                   111.251838     77.849496\n",
       "5                   121.638560     78.758134\n",
       "6                   119.074341    110.444749\n",
       "7                   110.734292    155.181299\n",
       "8                   114.680455    186.790574\n",
       "9                   110.004661     93.252030\n",
       "10                   99.974498     62.097617\n",
       "11                   88.069601     48.273993\n",
       "12                   88.826307     68.984230"
      ]
     },
     "execution_count": 21,
     "metadata": {},
     "output_type": "execute_result"
    }
   ],
   "source": [
    "adr_each_month_df = booking_df.groupby(['hotel', 'arrival_date_month'])['adr'].mean().unstack(0)\n",
    "adr_each_month_df"
   ]
  },
  {
   "cell_type": "markdown",
   "metadata": {},
   "source": [
    "##### Bước 2:"
   ]
  },
  {
   "cell_type": "markdown",
   "metadata": {},
   "source": [
    "Từ adr_each_month_df vẽ đồ thị dạng line:"
   ]
  },
  {
   "cell_type": "code",
   "execution_count": 22,
   "metadata": {},
   "outputs": [
    {
     "data": {
      "image/png": "[encoded data removed]",
      "text/plain": [
       "<Figure size 720x360 with 1 Axes>"
      ]
     },
     "metadata": {
      "needs_background": "light"
     },
     "output_type": "display_data"
    }
   ],
   "source": [
    "adr_each_month_df.plot(marker='o', figsize=(10, 5))\n",
    "plt.ylim((0, 200))\n",
    "plt.xticks(np.arange(1, 13))\n",
    "plt.ylabel('Average Daily Rate');"
   ]
  },
  {
   "cell_type": "markdown",
   "metadata": {},
   "source": [
    "**Nhận xét:**\n",
    "* Đối với City Hotel giá tiền trung bình 1 ngày giữa các tháng không chênh lệch nhiều, từ tháng 4 đến tháng 9 giá tiền trung bình 1 ngày cao hơn các tháng còn lại.\n",
    "* Đối với Resort Hotel giá tiền trung bình 1 ngày giữa các tháng có sự chênh lệch lớn, tháng 8 là tháng có giá cao nhất. Từ tháng 6 đến tháng 9 có giá trung bình cao hơn các tháng còn lại, có lẽ đây là dịp hè mọi người đi du lịch nghỉ dưỡng nhiều nên giá trung bình mỗi ngày cao hơn.\n",
    "* Do đó để tiết kiệm tiền, khách hàng nên đặt chỗ ở vào khoảng tháng 11, 12, 1, 2, 3 thì sẽ có giá rẻ hơn.\n",
    "* Nhìn trung giá trung bình mỗi ngày ở City Hotel cao hơn Resort Hotel; tuy nhiên vào tháng 7 và 8, Resort Hotel lại có giá cao hơn. "
   ]
  },
  {
   "cell_type": "markdown",
   "metadata": {},
   "source": [
    "### Với mỗi Hotel, tháng nào có số lượt đặt phòng cao nhất, tháng nào có số lượt đặt phòng thấp nhất?"
   ]
  },
  {
   "cell_type": "markdown",
   "metadata": {},
   "source": [
    "#### Trả lời câu hỏi:"
   ]
  },
  {
   "cell_type": "markdown",
   "metadata": {},
   "source": [
    "Để trả lời cho câu hỏi này, ta sẽ thực hiện các bước sau:\n",
    "- **Bước 1:** Tính DataFrame num_booking_each_month_df gồm 2 cột *('City Hotel' và 'Resort Hotel')* ứng với số lượt đặt phòng của mỗi Hotel và 12 dòng *(1, 2, ..., 12)* ứng với 12 tháng.\n",
    "- **Bước 2:** Từ num_booking_each_month_df vẽ đồ thị dạng group bar chart để thể hiện có lượt đặt phòng của mỗi Hotel ở mỗi tháng."
   ]
  },
  {
   "cell_type": "markdown",
   "metadata": {},
   "source": [
    "##### Bước 1:"
   ]
  },
  {
   "cell_type": "markdown",
   "metadata": {},
   "source": [
    "Đầu tiên cần lọc `booking_df` lấy các dòng dữ liệu mà ngày đặt phòng vào năm 2016, lưu kết quả vào `booking_2016_df`:"
   ]
  },
  {
   "cell_type": "code",
   "execution_count": 23,
   "metadata": {},
   "outputs": [],
   "source": [
    "booking_2016_df = booking_df[booking_df['arrival_date'].dt.year == 2016]\n",
    "# booking_2016_df"
   ]
  },
  {
   "cell_type": "markdown",
   "metadata": {},
   "source": [
    "Tiếp theo, từ `booking_2016_df` gom nhóm theo 'arrival_date_month' và 'hotel' sau đó tính số lượt đặt phòng *(size)*. Cuối cùng cần unstack để được DataFrame như mong muốn và lưu vào num_booking_each_month_df:"
   ]
  },
  {
   "cell_type": "code",
   "execution_count": 24,
   "metadata": {},
   "outputs": [
    {
     "data": {
      "text/html": [
       "<div>\n",
       "<style scoped>\n",
       "    .dataframe tbody tr th:only-of-type {\n",
       "        vertical-align: middle;\n",
       "    }\n",
       "\n",
       "    .dataframe tbody tr th {\n",
       "        vertical-align: top;\n",
       "    }\n",
       "\n",
       "    .dataframe thead th {\n",
       "        text-align: right;\n",
       "    }\n",
       "</style>\n",
       "<table border=\"1\" class=\"dataframe\">\n",
       "  <thead>\n",
       "    <tr style=\"text-align: right;\">\n",
       "      <th>hotel</th>\n",
       "      <th>City Hotel</th>\n",
       "      <th>Resort Hotel</th>\n",
       "    </tr>\n",
       "    <tr>\n",
       "      <th>arrival_date_month</th>\n",
       "      <th></th>\n",
       "      <th></th>\n",
       "    </tr>\n",
       "  </thead>\n",
       "  <tbody>\n",
       "    <tr>\n",
       "      <td>1</td>\n",
       "      <td>1364</td>\n",
       "      <td>884</td>\n",
       "    </tr>\n",
       "    <tr>\n",
       "      <td>2</td>\n",
       "      <td>2371</td>\n",
       "      <td>1520</td>\n",
       "    </tr>\n",
       "    <tr>\n",
       "      <td>3</td>\n",
       "      <td>3046</td>\n",
       "      <td>1778</td>\n",
       "    </tr>\n",
       "    <tr>\n",
       "      <td>4</td>\n",
       "      <td>3561</td>\n",
       "      <td>1867</td>\n",
       "    </tr>\n",
       "    <tr>\n",
       "      <td>5</td>\n",
       "      <td>3676</td>\n",
       "      <td>1802</td>\n",
       "    </tr>\n",
       "    <tr>\n",
       "      <td>6</td>\n",
       "      <td>3923</td>\n",
       "      <td>1369</td>\n",
       "    </tr>\n",
       "    <tr>\n",
       "      <td>7</td>\n",
       "      <td>3131</td>\n",
       "      <td>1441</td>\n",
       "    </tr>\n",
       "    <tr>\n",
       "      <td>8</td>\n",
       "      <td>3378</td>\n",
       "      <td>1685</td>\n",
       "    </tr>\n",
       "    <tr>\n",
       "      <td>9</td>\n",
       "      <td>3871</td>\n",
       "      <td>1523</td>\n",
       "    </tr>\n",
       "    <tr>\n",
       "      <td>10</td>\n",
       "      <td>4219</td>\n",
       "      <td>1984</td>\n",
       "    </tr>\n",
       "    <tr>\n",
       "      <td>11</td>\n",
       "      <td>3122</td>\n",
       "      <td>1332</td>\n",
       "    </tr>\n",
       "    <tr>\n",
       "      <td>12</td>\n",
       "      <td>2478</td>\n",
       "      <td>1382</td>\n",
       "    </tr>\n",
       "  </tbody>\n",
       "</table>\n",
       "</div>"
      ],
      "text/plain": [
       "hotel               City Hotel  Resort Hotel\n",
       "arrival_date_month                          \n",
       "1                         1364           884\n",
       "2                         2371          1520\n",
       "3                         3046          1778\n",
       "4                         3561          1867\n",
       "5                         3676          1802\n",
       "6                         3923          1369\n",
       "7                         3131          1441\n",
       "8                         3378          1685\n",
       "9                         3871          1523\n",
       "10                        4219          1984\n",
       "11                        3122          1332\n",
       "12                        2478          1382"
      ]
     },
     "execution_count": 24,
     "metadata": {},
     "output_type": "execute_result"
    }
   ],
   "source": [
    "num_booking_each_month_df = booking_2016_df.groupby(['arrival_date_month', 'hotel']).size().unstack(1)\n",
    "num_booking_each_month_df"
   ]
  },
  {
   "cell_type": "markdown",
   "metadata": {},
   "source": [
    "##### Bước 2:"
   ]
  },
  {
   "cell_type": "markdown",
   "metadata": {},
   "source": [
    "Từ num_booking_each_month_df vẽ đồ thị dạng group bar chart thể hiện số lượng đặt phòng mỗi tháng với mỗi Hotel:"
   ]
  },
  {
   "cell_type": "code",
   "execution_count": 25,
   "metadata": {},
   "outputs": [
    {
     "data": {
      "image/png": "[encoded data removed]",
      "text/plain": [
       "<Figure size 720x360 with 1 Axes>"
      ]
     },
     "metadata": {
      "needs_background": "light"
     },
     "output_type": "display_data"
    }
   ],
   "source": [
    "num_booking_each_month_df.plot.bar(rot=0, figsize=(10, 5))\n",
    "plt.ylabel('Number of reservations');"
   ]
  },
  {
   "cell_type": "markdown",
   "metadata": {},
   "source": [
    "**Nhận xét:**\n",
    "* Cả Resort Hotel và City Hotel đều có số lượng đặt phòng cao nhất vào tháng 10 và thấp nhất vào tháng 1.\n",
    "* Trong cả 12 tháng thì City Hotel đều có số lượng đặt phòng cao hơn nhiều so với số lượng đặt phòng của Resort Hotel.\n",
    "* Liên hệ đến phần nhận xét câu hỏi 1, giả thuyết đặt ra là khách hàng đi du lịch nhiều vào tháng 8. Tuy nhiên ở đây ta có thể thấy số lượng khách hàng đặt phòng vào tháng 8 lại thấp hơn nhiều tháng khác. Có lẽ do giá phòng tháng 8 mắc nhất nên lượng khách hàng đặt phòng lại ít hơn một số tháng khác."
   ]
  },
  {
   "cell_type": "markdown",
   "metadata": {},
   "source": [
    "### Đối với mỗi loại phòng khi đặt phòng ('reserved_room_type'), giá trung bình 1 ngày ('adr') và tổng số lượt đặt phòng là bao nhiêu?"
   ]
  },
  {
   "cell_type": "markdown",
   "metadata": {},
   "source": [
    "#### Trả lời câu hỏi:"
   ]
  },
  {
   "cell_type": "markdown",
   "metadata": {},
   "source": [
    "Để trả lời cho câu hỏi này, ta sẽ thực hiện các bước sau:\n",
    "- **Bước 1:** Tính DataFrame reserved_room_type_df gồm 2 cột *('num_reservations' và 'adr')* ứng với số lượt đặt phòng và giá tiền trung bình 1 ngày và 10 dòng tương ứng với 10 loại phòng.\n",
    "- **Bước 2:** Từ reserved_room_type_df vẽ đồ thị dạng bar chart thể hiện tổng số lượt đặt phòng đối với mỗi loại phòng.\n",
    "- **Bước 3:** Từ reserved_room_type_df vẽ đồ thị dạng line chart thể hiện sự thay đổi giá tiền trung bình 1 ngày đối với mỗi loại phòng."
   ]
  },
  {
   "cell_type": "markdown",
   "metadata": {},
   "source": [
    "##### Bước 1:"
   ]
  },
  {
   "cell_type": "markdown",
   "metadata": {},
   "source": [
    "Từ `booking_df` gom nhóm theo 'reserved_room_type', tính tổng số lượt đặt phòng và trung bình giá tiền 1 ngày. Lưu kết quả vào `reserved_room_type_df`:"
   ]
  },
  {
   "cell_type": "code",
   "execution_count": 26,
   "metadata": {},
   "outputs": [
    {
     "data": {
      "text/html": [
       "<div>\n",
       "<style scoped>\n",
       "    .dataframe tbody tr th:only-of-type {\n",
       "        vertical-align: middle;\n",
       "    }\n",
       "\n",
       "    .dataframe tbody tr th {\n",
       "        vertical-align: top;\n",
       "    }\n",
       "\n",
       "    .dataframe thead th {\n",
       "        text-align: right;\n",
       "    }\n",
       "</style>\n",
       "<table border=\"1\" class=\"dataframe\">\n",
       "  <thead>\n",
       "    <tr style=\"text-align: right;\">\n",
       "      <th></th>\n",
       "      <th>num_reservations</th>\n",
       "      <th>adr</th>\n",
       "    </tr>\n",
       "    <tr>\n",
       "      <th>reserved_room_type</th>\n",
       "      <th></th>\n",
       "      <th></th>\n",
       "    </tr>\n",
       "  </thead>\n",
       "  <tbody>\n",
       "    <tr>\n",
       "      <td>A</td>\n",
       "      <td>85994</td>\n",
       "      <td>90.796658</td>\n",
       "    </tr>\n",
       "    <tr>\n",
       "      <td>B</td>\n",
       "      <td>1118</td>\n",
       "      <td>90.360447</td>\n",
       "    </tr>\n",
       "    <tr>\n",
       "      <td>C</td>\n",
       "      <td>932</td>\n",
       "      <td>160.216792</td>\n",
       "    </tr>\n",
       "    <tr>\n",
       "      <td>D</td>\n",
       "      <td>19201</td>\n",
       "      <td>120.682882</td>\n",
       "    </tr>\n",
       "    <tr>\n",
       "      <td>E</td>\n",
       "      <td>6535</td>\n",
       "      <td>124.540179</td>\n",
       "    </tr>\n",
       "    <tr>\n",
       "      <td>F</td>\n",
       "      <td>2897</td>\n",
       "      <td>167.689651</td>\n",
       "    </tr>\n",
       "    <tr>\n",
       "      <td>G</td>\n",
       "      <td>2094</td>\n",
       "      <td>175.996027</td>\n",
       "    </tr>\n",
       "    <tr>\n",
       "      <td>H</td>\n",
       "      <td>601</td>\n",
       "      <td>188.223111</td>\n",
       "    </tr>\n",
       "    <tr>\n",
       "      <td>L</td>\n",
       "      <td>6</td>\n",
       "      <td>124.666667</td>\n",
       "    </tr>\n",
       "    <tr>\n",
       "      <td>P</td>\n",
       "      <td>12</td>\n",
       "      <td>0.000000</td>\n",
       "    </tr>\n",
       "  </tbody>\n",
       "</table>\n",
       "</div>"
      ],
      "text/plain": [
       "                    num_reservations         adr\n",
       "reserved_room_type                              \n",
       "A                              85994   90.796658\n",
       "B                               1118   90.360447\n",
       "C                                932  160.216792\n",
       "D                              19201  120.682882\n",
       "E                               6535  124.540179\n",
       "F                               2897  167.689651\n",
       "G                               2094  175.996027\n",
       "H                                601  188.223111\n",
       "L                                  6  124.666667\n",
       "P                                 12    0.000000"
      ]
     },
     "execution_count": 26,
     "metadata": {},
     "output_type": "execute_result"
    }
   ],
   "source": [
    "reserved_room_type_df = booking_df.groupby(['reserved_room_type']).agg({'reserved_room_type': 'count', 'adr': 'mean'})\n",
    "# Đổi tên columns\n",
    "reserved_room_type_df.columns= ['num_reservations', 'adr']\n",
    "reserved_room_type_df"
   ]
  },
  {
   "cell_type": "markdown",
   "metadata": {},
   "source": [
    "##### Bước 2:"
   ]
  },
  {
   "cell_type": "markdown",
   "metadata": {},
   "source": [
    "Vẽ đồ thị dạng bar chart thể hiện tổng số lượt đặt phòng đối với mỗi loại phòng:"
   ]
  },
  {
   "cell_type": "code",
   "execution_count": 27,
   "metadata": {},
   "outputs": [
    {
     "data": {
      "image/png": "[encoded data removed]",
      "text/plain": [
       "<Figure size 720x360 with 1 Axes>"
      ]
     },
     "metadata": {
      "needs_background": "light"
     },
     "output_type": "display_data"
    }
   ],
   "source": [
    "reserved_room_type_df['num_reservations'].plot.bar(rot=0, figsize=(10, 5))\n",
    "plt.ylabel('Number of reservations');"
   ]
  },
  {
   "cell_type": "markdown",
   "metadata": {},
   "source": [
    "##### Bước 3:"
   ]
  },
  {
   "cell_type": "markdown",
   "metadata": {},
   "source": [
    "Vẽ đồ thị dạng line chart thể hiện sự thay đổi giá tiền trung bình 1 ngày đối với mỗi loại phòng:"
   ]
  },
  {
   "cell_type": "code",
   "execution_count": 28,
   "metadata": {},
   "outputs": [
    {
     "data": {
      "image/png": "[encoded data removed]",
      "text/plain": [
       "<Figure size 720x360 with 1 Axes>"
      ]
     },
     "metadata": {
      "needs_background": "light"
     },
     "output_type": "display_data"
    }
   ],
   "source": [
    "reserved_room_type_df['adr'].plot(marker='o', figsize=(10, 5))\n",
    "plt.ylabel('Average Daily Rate');"
   ]
  },
  {
   "cell_type": "markdown",
   "metadata": {},
   "source": [
    "**Nhận xét:**\n",
    "* Phòng H là loại phòng có giá tiền trung bình 1 ngày mắc nhất. Có 1 điểm bất thường là giá tiền trung bình 1 ngày của phòng loại P là bằng 0."
   ]
  },
  {
   "cell_type": "markdown",
   "metadata": {},
   "source": [
    "Giá tiền trung bình 1 ngày của phòng loại P là bằng 0 có thể là do tất cả những lượt đặt phòng này đều bị hủy *(canceled)*. Xét tỷ lệ hủy phòng của các lượt đặt phòng loại P:"
   ]
  },
  {
   "cell_type": "code",
   "execution_count": 29,
   "metadata": {},
   "outputs": [
    {
     "data": {
      "text/plain": [
       "1.0"
      ]
     },
     "execution_count": 29,
     "metadata": {},
     "output_type": "execute_result"
    }
   ],
   "source": [
    "booking_df[booking_df['reserved_room_type'] == 'P']['is_canceled'].mean()"
   ]
  },
  {
   "cell_type": "markdown",
   "metadata": {},
   "source": [
    "Kết quả cho thấy 100% lượt đặt phòng loại P đều bị hủy do đó dẫn đến 'adr' của loại phòng P bằng 0."
   ]
  },
  {
   "cell_type": "markdown",
   "metadata": {},
   "source": [
    "**Nhận xét (tiếp theo):**\n",
    "* Nếu không tính phòng loại P, thì phòng loại A và phòng loại B có giá tiền trung bình 1 ngày rẻ nhất.\n",
    "* Phòng loại A cũng là loại phòng mà nhiều người đặt chỗ nhất, cao hơn rất nhiều so với các loại phòng khác."
   ]
  },
  {
   "cell_type": "markdown",
   "metadata": {},
   "source": [
    "### Top 10 quốc gia có nhiều khách đặt phòng nhất?"
   ]
  },
  {
   "cell_type": "markdown",
   "metadata": {},
   "source": [
    "#### Trả lời câu hỏi:"
   ]
  },
  {
   "cell_type": "markdown",
   "metadata": {},
   "source": [
    "Để trả lời cho câu hỏi này, ta sẽ thực hiện các bước sau:\n",
    "- **Bước 1:** Tính Series top10_country_series gồm tổng số lượt đặt phòng của 10 quốc gia có số lượt đặt phòng lớn nhất.\n",
    "- **Bước 2:** Từ top10_country_serie vẽ đồ thị dạng bar chart để thể hiện tổng số lượt đặt phòng của 10 quốc gia đó."
   ]
  },
  {
   "cell_type": "markdown",
   "metadata": {},
   "source": [
    "##### Bước 1:"
   ]
  },
  {
   "cell_type": "markdown",
   "metadata": {},
   "source": [
    "Tính Series top10_country_series bằng cách gom nhóm `booking_df` theo 'country', sau đó tính tổng số lượt đặt phòng và chọn ra 10 quốc gia có số lượng đặt phòng lớn nhất:"
   ]
  },
  {
   "cell_type": "code",
   "execution_count": 30,
   "metadata": {},
   "outputs": [
    {
     "data": {
      "text/plain": [
       "country\n",
       "PRT    48590\n",
       "GBR    12129\n",
       "FRA    10415\n",
       "ESP     8568\n",
       "DEU     7287\n",
       "ITA     3766\n",
       "IRL     3375\n",
       "BEL     2342\n",
       "BRA     2224\n",
       "NLD     2104\n",
       "dtype: int64"
      ]
     },
     "execution_count": 30,
     "metadata": {},
     "output_type": "execute_result"
    }
   ],
   "source": [
    "top10_country_series = booking_df.groupby(['country']).size().nlargest(10)\n",
    "top10_country_series"
   ]
  },
  {
   "cell_type": "markdown",
   "metadata": {},
   "source": [
    "##### Bước 2:"
   ]
  },
  {
   "cell_type": "markdown",
   "metadata": {},
   "source": [
    "Vẽ biểu đồ bar chart thể hiện tổng số lượt đặt phòng của 10 quốc gia này:"
   ]
  },
  {
   "cell_type": "code",
   "execution_count": 31,
   "metadata": {},
   "outputs": [
    {
     "data": {
      "image/png": "[encoded data removed]",
      "text/plain": [
       "<Figure size 720x360 with 1 Axes>"
      ]
     },
     "metadata": {
      "needs_background": "light"
     },
     "output_type": "display_data"
    }
   ],
   "source": [
    "top10_country_series.plot.bar(rot=0, figsize=(10, 5))\n",
    "plt.ylabel('Number of reservations');"
   ]
  },
  {
   "cell_type": "markdown",
   "metadata": {},
   "source": [
    "**Nhận xét:**\n",
    "* Bồ Đào Nha là quốc gia có nhiều lượt đặt phòng nhất, điều này không bất ngờ vì 2 Hotel này đều nằm ở Bồ Đào Nha nên có số lượt đặt phòng của khách hàng địa phương cao.\n",
    "* Trong 10 quốc gia này, đa số đều là các quốc gia châu Âu. Không có quốc gia nào ở Châu Á, Phi và Châu Đại Dương nằm trong top 10."
   ]
  },
  {
   "cell_type": "markdown",
   "metadata": {},
   "source": [
    "### Với mỗi Hotel, Market Segment nào mang lại tổng doanh thu cao nhất?"
   ]
  },
  {
   "cell_type": "markdown",
   "metadata": {},
   "source": [
    "#### Tiền xử lý"
   ]
  },
  {
   "cell_type": "markdown",
   "metadata": {},
   "source": [
    "##### Thêm cột 'stays_in_nights' vào DataFrame"
   ]
  },
  {
   "cell_type": "markdown",
   "metadata": {},
   "source": [
    "'stays_in_nights' là tổng số đêm mà khách hàng ở tại khách sạn, nó sẽ bằng tổng của 'stays_in_week_nights' và 'stays_in_weekend_nights':"
   ]
  },
  {
   "cell_type": "code",
   "execution_count": 32,
   "metadata": {},
   "outputs": [],
   "source": [
    "booking_df = booking_df.assign(stays_in_nights = booking_df['stays_in_week_nights'] + booking_df['stays_in_weekend_nights'])"
   ]
  },
  {
   "cell_type": "markdown",
   "metadata": {},
   "source": [
    "#### Thêm cột 'total' vào DataFrame"
   ]
  },
  {
   "cell_type": "markdown",
   "metadata": {},
   "source": [
    "'total' là tổng chi phí lưu trú. 'total' = 'stays_in_nights' * 'adr'. *(Do 'adr' được tính bằng Tổng chi phí lưu trú chia cho tổng số đêm lưu trú)*"
   ]
  },
  {
   "cell_type": "code",
   "execution_count": 33,
   "metadata": {},
   "outputs": [],
   "source": [
    "booking_df = booking_df.assign(total = booking_df['stays_in_nights'] * booking_df['adr'])"
   ]
  },
  {
   "cell_type": "markdown",
   "metadata": {},
   "source": [
    "#### Trả lời câu hỏi:"
   ]
  },
  {
   "cell_type": "markdown",
   "metadata": {},
   "source": [
    "Để trả lời cho câu hỏi này, ta sẽ thực hiện các bước sau:\n",
    "- **Bước 1:** Tính DataFrame total_by_market_segment_df gồm 2 cột *('City Hotel' và 'Resort Hotel')* ứng với tổng doanh thu của mỗi Hotel và 8 dòng ứng với các Market Segment.\n",
    "- **Bước 2:** Từ total_by_market_segment_df vẽ đồ thị dạng group bar chart để thể hiện tổng doanh thu của mỗi Hotel đối với mỗi market segment."
   ]
  },
  {
   "cell_type": "markdown",
   "metadata": {},
   "source": [
    "##### Bước 1:"
   ]
  },
  {
   "cell_type": "markdown",
   "metadata": {},
   "source": [
    "Tính `total_by_market_segment_df` bằng cách gom nhóm `booking_df` theo 'hotel' và 'market_segment' rồi sau đó tính tổng 'total':"
   ]
  },
  {
   "cell_type": "code",
   "execution_count": 34,
   "metadata": {},
   "outputs": [
    {
     "data": {
      "text/html": [
       "<div>\n",
       "<style scoped>\n",
       "    .dataframe tbody tr th:only-of-type {\n",
       "        vertical-align: middle;\n",
       "    }\n",
       "\n",
       "    .dataframe tbody tr th {\n",
       "        vertical-align: top;\n",
       "    }\n",
       "\n",
       "    .dataframe thead th {\n",
       "        text-align: right;\n",
       "    }\n",
       "</style>\n",
       "<table border=\"1\" class=\"dataframe\">\n",
       "  <thead>\n",
       "    <tr style=\"text-align: right;\">\n",
       "      <th>hotel</th>\n",
       "      <th>City Hotel</th>\n",
       "      <th>Resort Hotel</th>\n",
       "    </tr>\n",
       "    <tr>\n",
       "      <th>market_segment</th>\n",
       "      <th></th>\n",
       "      <th></th>\n",
       "    </tr>\n",
       "  </thead>\n",
       "  <tbody>\n",
       "    <tr>\n",
       "      <td>Aviation</td>\n",
       "      <td>87446.36</td>\n",
       "      <td>NaN</td>\n",
       "    </tr>\n",
       "    <tr>\n",
       "      <td>Complementary</td>\n",
       "      <td>2937.99</td>\n",
       "      <td>2144.53</td>\n",
       "    </tr>\n",
       "    <tr>\n",
       "      <td>Corporate</td>\n",
       "      <td>484068.62</td>\n",
       "      <td>290226.64</td>\n",
       "    </tr>\n",
       "    <tr>\n",
       "      <td>Direct</td>\n",
       "      <td>2122531.51</td>\n",
       "      <td>2970496.88</td>\n",
       "    </tr>\n",
       "    <tr>\n",
       "      <td>Groups</td>\n",
       "      <td>3121991.05</td>\n",
       "      <td>1547645.69</td>\n",
       "    </tr>\n",
       "    <tr>\n",
       "      <td>Offline TA/TO</td>\n",
       "      <td>4475201.98</td>\n",
       "      <td>3676710.75</td>\n",
       "    </tr>\n",
       "    <tr>\n",
       "      <td>Online TA</td>\n",
       "      <td>14985244.45</td>\n",
       "      <td>8956803.08</td>\n",
       "    </tr>\n",
       "    <tr>\n",
       "      <td>Undefined</td>\n",
       "      <td>48.00</td>\n",
       "      <td>NaN</td>\n",
       "    </tr>\n",
       "  </tbody>\n",
       "</table>\n",
       "</div>"
      ],
      "text/plain": [
       "hotel            City Hotel  Resort Hotel\n",
       "market_segment                           \n",
       "Aviation           87446.36           NaN\n",
       "Complementary       2937.99       2144.53\n",
       "Corporate         484068.62     290226.64\n",
       "Direct           2122531.51    2970496.88\n",
       "Groups           3121991.05    1547645.69\n",
       "Offline TA/TO    4475201.98    3676710.75\n",
       "Online TA       14985244.45    8956803.08\n",
       "Undefined             48.00           NaN"
      ]
     },
     "execution_count": 34,
     "metadata": {},
     "output_type": "execute_result"
    }
   ],
   "source": [
    "total_by_market_segment_df = booking_df.groupby(['hotel', 'market_segment'])['total'].sum().unstack(0)\n",
    "total_by_market_segment_df"
   ]
  },
  {
   "cell_type": "markdown",
   "metadata": {},
   "source": [
    "##### Bước 2:"
   ]
  },
  {
   "cell_type": "markdown",
   "metadata": {},
   "source": [
    "Vẽ đồ thị dạng group bar chart để thể hiện tổng doanh thu của mỗi Hotel đối với mỗi market segment"
   ]
  },
  {
   "cell_type": "code",
   "execution_count": 35,
   "metadata": {},
   "outputs": [
    {
     "data": {
      "image/png": "[encoded data removed]",
      "text/plain": [
       "<Figure size 720x360 with 1 Axes>"
      ]
     },
     "metadata": {
      "needs_background": "light"
     },
     "output_type": "display_data"
    }
   ],
   "source": [
    "total_by_market_segment_df.plot.bar(rot=0, figsize=(10, 5))\n",
    "plt.ylabel('Total');"
   ]
  },
  {
   "cell_type": "markdown",
   "metadata": {},
   "source": [
    "**Nhận xét:**\n",
    "* Online TA (Travel Agents) mang lại tổng doanh thu cao nhất cho cả 2 Hotel.\n",
    "* Nhìn chung City Hotel có tổng doanh thu cao hơn Resort Hotel.\n",
    "* Do đó các Hotel cần tập trung vào Online TA để có thể có doanh thu tốt hơn."
   ]
  },
  {
   "cell_type": "markdown",
   "metadata": {},
   "source": [
    "___"
   ]
  },
  {
   "cell_type": "markdown",
   "metadata": {},
   "source": [
    "## Nhìn lại quá trình làm đồ án"
   ]
  },
  {
   "cell_type": "markdown",
   "metadata": {},
   "source": [
    "### Đã gặp những khó khăn gì?"
   ]
  },
  {
   "cell_type": "markdown",
   "metadata": {},
   "source": [
    "Trong quá trình làm đồ án, em đã gặp khó khăn trong việc nên lựa chọn dataset nào. Sau khi đã lựa chọn được dataset thì em cũng khá khó khăn trong việc hiểu ý nghĩa 1 số thuộc tính và việc nên đặt câu hỏi như thế nào cho hợp lý. Ngoài ra, thì những công việc khác diễn ra khá thuận lợi."
   ]
  },
  {
   "cell_type": "markdown",
   "metadata": {},
   "source": [
    "### Có học được gì hữu ích?"
   ]
  },
  {
   "cell_type": "markdown",
   "metadata": {},
   "source": [
    "Quá trình làm đồ án này là cơ hội cho em ôn tập lại và vận dụng những gì mình đã học để có thể hoàn thành đồ án. Ngoài ra em cũng học được cách trình bày file notebook sao cho rõ ràng, dễ đọc nhất."
   ]
  },
  {
   "cell_type": "markdown",
   "metadata": {},
   "source": [
    "### Nếu có thêm thời gian thì sẽ làm gì?"
   ]
  },
  {
   "cell_type": "markdown",
   "metadata": {},
   "source": [
    "Trong đồ án này, còn nhiều cột dữ liệu mà em chưa sử dụng. Nếu có thêm thời gian, em sẽ đặt và trả lời thêm những câu hỏi mà sử dụng những cột mà mình chưa dùng đến."
   ]
  },
  {
   "cell_type": "markdown",
   "metadata": {},
   "source": [
    "___"
   ]
  },
  {
   "cell_type": "markdown",
   "metadata": {},
   "source": [
    "## Tài liệu tham khảo"
   ]
  },
  {
   "cell_type": "markdown",
   "metadata": {},
   "source": [
    "*Không có tham khảo gì thêm.*"
   ]
  }
 ],
 "metadata": {
  "kernelspec": {
   "display_name": "Python 3",
   "language": "python",
   "name": "python3"
  },
  "language_info": {
   "codemirror_mode": {
    "name": "ipython",
    "version": 3
   },
   "file_extension": ".py",
   "mimetype": "text/x-python",
   "name": "python",
   "nbconvert_exporter": "python",
   "pygments_lexer": "ipython3",
   "version": "3.7.4"
  }
 },
 "nbformat": 4,
 "nbformat_minor": 4
}
